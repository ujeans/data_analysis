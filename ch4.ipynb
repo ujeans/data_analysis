{
 "cells": [
  {
   "cell_type": "code",
   "execution_count": 9,
   "id": "4f732686-bbc8-4335-89fb-504dcc86e801",
   "metadata": {},
   "outputs": [],
   "source": [
    "age = 23\n",
    "if age > 19:\n",
    "    print('성인은 주류를 구매할 수 있습니다.')"
   ]
  },
  {
   "cell_type": "code",
   "execution_count": 11,
   "id": "4724b899-9275-42a8-ba09-28e5ba26dd9e",
   "metadata": {},
   "outputs": [
    {
     "name": "stdout",
     "output_type": "stream",
     "text": [
      "성인은 주류를 구매할 수 없습니다.\n"
     ]
    }
   ],
   "source": [
    "age = 18\n",
    "if age < 20:\n",
    "    print('성인은 주류를 구매할 수 없습니다.')"
   ]
  },
  {
   "cell_type": "code",
   "execution_count": 21,
   "id": "4bbf5b5a-4576-42e7-a070-50f98edf5157",
   "metadata": {},
   "outputs": [
    {
     "name": "stdin",
     "output_type": "stream",
     "text": [
      "나이가 어떻게 되세요? 24\n"
     ]
    },
    {
     "name": "stdout",
     "output_type": "stream",
     "text": [
      "감사합니다. 안녕히가세요\n"
     ]
    }
   ],
   "source": [
    "age = int(input('나이가 어떻게 되세요?'))\n",
    "if age < 20:\n",
    "    print('미성년자는 주류를 구매할 수 없습니다.')\n",
    "    print(20-age, '년 후에 성인이 되면 오세요!')\n",
    "\n",
    "print('감사합니다. 안녕히가세요')"
   ]
  },
  {
   "cell_type": "code",
   "execution_count": 23,
   "id": "f1ea82a9-1ed8-4a8b-b4d2-a3cbb67915e4",
   "metadata": {},
   "outputs": [
    {
     "name": "stdin",
     "output_type": "stream",
     "text": [
      "구매금액은?  3000\n"
     ]
    },
    {
     "name": "stdout",
     "output_type": "stream",
     "text": [
      "배송비 2500원이 추가됩니다.\n"
     ]
    }
   ],
   "source": [
    "price = int(input('구매금액은? '))\n",
    "if price < 50000:\n",
    "    print('배송비 2500원이 추가됩니다.')"
   ]
  },
  {
   "cell_type": "code",
   "execution_count": 25,
   "id": "c225942f-b67a-48c7-865e-154ca21c0dd9",
   "metadata": {},
   "outputs": [
    {
     "name": "stdin",
     "output_type": "stream",
     "text": [
      "구매금액은? 4000\n"
     ]
    },
    {
     "name": "stdout",
     "output_type": "stream",
     "text": [
      "배송비 2500원이 추가됩니다.\n",
      "결제금액은 6500 원입니다.\n"
     ]
    }
   ],
   "source": [
    "price = int(input('구매금액은?'))\n",
    "if price < 50000:\n",
    "    print('배송비 2500원이 추가됩니다.')\n",
    "    price += 2500\n",
    "print('결제금액은', price, '원입니다.')"
   ]
  },
  {
   "cell_type": "code",
   "execution_count": 37,
   "id": "c04876a4-c8a8-4944-819f-9eae7f9e5473",
   "metadata": {},
   "outputs": [
    {
     "name": "stdin",
     "output_type": "stream",
     "text": [
      "주중/주말 주말\n"
     ]
    },
    {
     "name": "stdout",
     "output_type": "stream",
     "text": [
      "아침 10시입니다! 주인님 일어나세요\n"
     ]
    }
   ],
   "source": [
    "day_type = input('주중/주말')\n",
    "if day_type == \"주중\":\n",
    "    print('아침 7시입니다! 주인님 일어나세요')\n",
    "if day_type == \"주말\":\n",
    "    print('아침 10시입니다! 주인님 일어나세요')"
   ]
  },
  {
   "cell_type": "code",
   "execution_count": 39,
   "id": "4c5986f9-6b73-4bf2-91d9-5ce02ec54e64",
   "metadata": {},
   "outputs": [
    {
     "name": "stdin",
     "output_type": "stream",
     "text": [
      "주중/주말 주말\n"
     ]
    },
    {
     "name": "stdout",
     "output_type": "stream",
     "text": [
      "아침 10시입니다! 주인님 일어나세요\n"
     ]
    }
   ],
   "source": [
    "day_type = input('주중/주말')\n",
    "if day_type == \"주중\":\n",
    "    print('아침 7시입니다! 주인님 일어나세요')\n",
    "else:\n",
    "    print('아침 10시입니다! 주인님 일어나세요')"
   ]
  },
  {
   "cell_type": "code",
   "execution_count": 43,
   "id": "bcb25fd1-7196-479e-a5f3-c457b774f894",
   "metadata": {},
   "outputs": [
    {
     "name": "stdin",
     "output_type": "stream",
     "text": [
      "오늘은 며칠입니까? 17\n"
     ]
    },
    {
     "name": "stdout",
     "output_type": "stream",
     "text": [
      "홀수번호 차량만 통행 가능합니다.\n",
      "짝수번호 차주는 오늘 대중교통을 이용하세요.\n"
     ]
    }
   ],
   "source": [
    "date = int(input('오늘은 며칠입니까?'))\n",
    "if date % 2 == 0:\n",
    "    print('짝수번호 차량만 통행 가능합니다.')\n",
    "    print('홀수번호 차주는 오늘 대중교통을 이용하세요.')\n",
    "\n",
    "else:\n",
    "    print('홀수번호 차량만 통행 가능합니다.')\n",
    "    print('짝수번호 차주는 오늘 대중교통을 이용하세요.')"
   ]
  },
  {
   "cell_type": "code",
   "execution_count": null,
   "id": "a05064df-c0ac-4719-892c-43ecad1e3136",
   "metadata": {},
   "outputs": [],
   "source": [
    "print('미세먼지 저감 조치에 따른 차량 2부제를 시행합니다.')\n",
    "date = int(input('오늘은 며칠입니까?'))\n",
    "if date % 2 == 1:\n",
    "    print('홀수번호 차량만 통행 가능합니다.')\n",
    "    print('짝수번호 차주는 오늘 대중교통을 이용하세요.')\n",
    "\n",
    "else:\n",
    "    print('짝수번호 차량만 통행 가능합니다.')\n",
    "    print('홀수번호 차주는 오늘 대중교통을 이용하세요.')"
   ]
  },
  {
   "cell_type": "code",
   "execution_count": 55,
   "id": "68ff200c-d538-42ae-afc3-a9444399ccf4",
   "metadata": {},
   "outputs": [
    {
     "name": "stdin",
     "output_type": "stream",
     "text": [
      "나이 입력받기:  24\n"
     ]
    },
    {
     "name": "stdout",
     "output_type": "stream",
     "text": [
      "입장료가 15000원입니다.\n"
     ]
    }
   ],
   "source": [
    "age = int(input('나이 입력받기: '))\n",
    "\n",
    "if age >= 20:\n",
    "    price = 15000\n",
    "else:\n",
    "    price = 6000\n",
    "\n",
    "print(f'입장료가 {price}원입니다.')\n",
    "\n"
   ]
  },
  {
   "cell_type": "code",
   "execution_count": 65,
   "id": "b02db708-1d57-4c39-bcb5-fef64a34b97a",
   "metadata": {},
   "outputs": [
    {
     "name": "stdin",
     "output_type": "stream",
     "text": [
      "나이 입력받기 24\n"
     ]
    },
    {
     "name": "stdout",
     "output_type": "stream",
     "text": [
      "입장료가 15,000입니다.\n"
     ]
    },
    {
     "name": "stdin",
     "output_type": "stream",
     "text": [
      "투입금액 15000\n"
     ]
    },
    {
     "name": "stdout",
     "output_type": "stream",
     "text": [
      "감사합니다. 즐거운 시간 되세요.\n"
     ]
    }
   ],
   "source": [
    "age = int(input('나이 입력받기'))\n",
    "\n",
    "if age >= 20:\n",
    "    print('입장료가 15,000입니다.')\n",
    "    price=15000\n",
    "else:\n",
    "    print('입장료가 60000')\n",
    "    price=60000\n",
    "\n",
    "price_input = int(input('투입금액'))\n",
    "change = price - price_input\n",
    "\n",
    "if price_input < price:\n",
    "    print(change, '원을 더 내야 합니다.')\n",
    "elif price_input == price:\n",
    "    print('감사합니다. 즐거운 시간 되세요.')\n",
    "else:\n",
    "    print(-change, '원을 거슬러 드리겠습니다.')"
   ]
  },
  {
   "cell_type": "code",
   "execution_count": 79,
   "id": "20cc7b05-0cd0-4e3e-95e8-ee6169f750dc",
   "metadata": {},
   "outputs": [
    {
     "name": "stdin",
     "output_type": "stream",
     "text": [
      "구매금액은? 30000\n"
     ]
    },
    {
     "name": "stdout",
     "output_type": "stream",
     "text": [
      "배송비 2500원이 출력됩니다.\n",
      "최종 결제금액은 32500 원입니다.\n"
     ]
    }
   ],
   "source": [
    "order_amount = int(input('구매금액은?'))\n",
    "\n",
    "if order_amount >= 50000:\n",
    "    print('무료배송 됩니다.')\n",
    "elif order_amount < 20000:\n",
    "    print('주문금액 미만')\n",
    "else:\n",
    "    print('배송비 2500원이 추가됩니다.')\n",
    "    order_amount = order_amount + 2500\n",
    "print('최종 결제금액은', order_amount, '원입니다.')"
   ]
  },
  {
   "cell_type": "code",
   "execution_count": 89,
   "id": "3d280fd3-056f-40ca-9f7e-14859c1c05ad",
   "metadata": {},
   "outputs": [
    {
     "name": "stdout",
     "output_type": "stream",
     "text": [
      "미세먼지 저감 조치에 따른 차량 2부제를 시행합니다.\n"
     ]
    },
    {
     "name": "stdin",
     "output_type": "stream",
     "text": [
      "오늘은 며칠입니까? 31\n"
     ]
    },
    {
     "name": "stdout",
     "output_type": "stream",
     "text": [
      "홀수번호 차량만 통행 가능합니다.\n",
      "짝수번호 차주는 오늘 대중교통을 이용하세요.\n"
     ]
    }
   ],
   "source": [
    "print('미세먼지 저감 조치에 따른 차량 2부제를 시행합니다.')\n",
    "date = int(input('오늘은 며칠입니까?'))\n",
    "if date > 32:\n",
    "    print('올바른 날짜를 입력해주세요.')\n",
    "elif date % 2 == 1:\n",
    "    print('홀수번호 차량만 통행 가능합니다.')\n",
    "    print('짝수번호 차주는 오늘 대중교통을 이용하세요.')\n",
    "else:\n",
    "    print('짝수번호 차량만 통행 가능합니다.')\n",
    "    print('홀수번호 차주는 오늘 대중교통을 이용하세요.')"
   ]
  },
  {
   "cell_type": "code",
   "execution_count": 91,
   "id": "42ce3ac0-32ca-42f4-829c-f397ee22131d",
   "metadata": {},
   "outputs": [
    {
     "name": "stdout",
     "output_type": "stream",
     "text": [
      "미세먼지 저감 조치에 따른 차량 2부제를 시행합니다.\n"
     ]
    },
    {
     "name": "stdin",
     "output_type": "stream",
     "text": [
      "오늘은 며칠입니까? 31\n"
     ]
    },
    {
     "name": "stdout",
     "output_type": "stream",
     "text": [
      "홀수번호 차량만 통행 가능합니다.\n",
      "짝수번호 차주는 오늘 대중교통을 이용하세요.\n"
     ]
    }
   ],
   "source": [
    "print('미세먼지 저감 조치에 따른 차량 2부제를 시행합니다.')\n",
    "date = int(input('오늘은 며칠입니까?'))\n",
    "if date <= 31:\n",
    "    if  date % 2 == 1:\n",
    "        print('홀수번호 차량만 통행 가능합니다.')\n",
    "        print('짝수번호 차주는 오늘 대중교통을 이용하세요.')\n",
    "    else:\n",
    "        print('짝수번호 차량만 통행 가능합니다.')\n",
    "        print('홀수번호 차주는 오늘 대중교통을 이용하세요.')\n",
    "else:\n",
    "    print('올바른 날짜를 입력하세요')\n",
    "    "
   ]
  },
  {
   "cell_type": "code",
   "execution_count": 103,
   "id": "5c0d3ec2-8959-4cd7-a614-58a7834728fc",
   "metadata": {},
   "outputs": [
    {
     "name": "stdin",
     "output_type": "stream",
     "text": [
      "구매금액은? 500000\n",
      "마케팅 이용약관에 동의했습니까? (Y/N) y\n"
     ]
    },
    {
     "name": "stdout",
     "output_type": "stream",
     "text": [
      "사은품 지급 대상입니다.\n"
     ]
    }
   ],
   "source": [
    "comsumption = int(input('구매금액은?'))\n",
    "marketing_yn = input('마케팅 이용약관에 동의했습니까? (Y/N)')\n",
    "\n",
    "if comsumption >= 100000 and marketing_yn == 'Y':\n",
    "    print('사은품 지급 대상입니다.')\n",
    "else:\n",
    "    print('사은품 지급 대상이 아닙니다.')"
   ]
  },
  {
   "cell_type": "code",
   "execution_count": 105,
   "id": "88ddf462-cbf0-4f89-bc57-e52979242444",
   "metadata": {},
   "outputs": [
    {
     "name": "stdin",
     "output_type": "stream",
     "text": [
      "구매금액은? 40000\n",
      "마케팅 이용약관에 동의했습니까? (Y/N) y\n"
     ]
    },
    {
     "name": "stdout",
     "output_type": "stream",
     "text": [
      "무료주차 대상입니다.\n"
     ]
    }
   ],
   "source": [
    "comsumption = int(input('구매금액은?'))\n",
    "marketing_yn = input('마케팅 이용약관에 동의했습니까? (Y/N)')\n",
    "\n",
    "if comsumption >= 100000 or marketing_yn == 'Y':\n",
    "    print('무료주차 대상입니다.')\n",
    "else:\n",
    "    print('무료주차 대상이 아닙니다.')"
   ]
  },
  {
   "cell_type": "code",
   "execution_count": 123,
   "id": "4744a326-2eca-42e4-a855-07360da30cff",
   "metadata": {},
   "outputs": [
    {
     "name": "stdin",
     "output_type": "stream",
     "text": [
      "기침이 있습니까? (Y/N): n\n",
      "체온을 입력해주세요. 36.5\n"
     ]
    },
    {
     "name": "stdout",
     "output_type": "stream",
     "text": [
      "정상입니다.\n"
     ]
    }
   ],
   "source": [
    "#self check 1\n",
    "isCough = input('기침이 있습니까? (Y/N):').upper()\n",
    "temperature = float(input('체온을 입력해주세요.'))\n",
    "\n",
    "if isCough == 'Y' and temperature >= 38.5:\n",
    "    print('독감일 수 있습니다.')\n",
    "else:\n",
    "    print('정상입니다.')"
   ]
  },
  {
   "cell_type": "code",
   "execution_count": 125,
   "id": "282778b8-ec3b-4745-b271-a8d418ceae5f",
   "metadata": {},
   "outputs": [
    {
     "name": "stdin",
     "output_type": "stream",
     "text": [
      "메뉴를 입력해주세요 (김밥/라면): 라면\n"
     ]
    },
    {
     "name": "stdout",
     "output_type": "stream",
     "text": [
      "기본라면(2,500원), 떡라면(4,000원), 만두라면(4,000)\n"
     ]
    }
   ],
   "source": [
    "#self check 2\n",
    "menu = input('메뉴를 입력해주세요 (김밥/라면):')\n",
    "\n",
    "if menu == '김밥':\n",
    "    print('야채김밥(2,500원), 참치김밥(3,500원)')\n",
    "elif menu == '라면':\n",
    "    print('기본라면(2,500원), 떡라면(4,000원), 만두라면(4,000)')\n",
    "else:\n",
    "    print('올바른 메뉴를 입력해주세요.')"
   ]
  },
  {
   "cell_type": "code",
   "execution_count": 127,
   "id": "2eb0ba82-1b5b-466b-a037-46edba05541e",
   "metadata": {},
   "outputs": [
    {
     "name": "stdin",
     "output_type": "stream",
     "text": [
      "점수를 입력해주세요.(0~100): 40\n"
     ]
    },
    {
     "name": "stdout",
     "output_type": "stream",
     "text": [
      "B등급\n"
     ]
    }
   ],
   "source": [
    "#self check 3\n",
    "score = int(input('점수를 입력해주세요.(0~100):'))\n",
    "\n",
    "if 0 <= score <= 100:\n",
    "    if score >= 80:\n",
    "        print('A등금')\n",
    "    elif 40 <= score < 80:\n",
    "        print('B등급')\n",
    "    else:\n",
    "        print('C등급')\n",
    "else:\n",
    "    print('잘못된 숫자를 입력했습니다.')"
   ]
  },
  {
   "cell_type": "code",
   "execution_count": null,
   "id": "6993fc0e-ad8d-422d-b0dc-22a839ab508f",
   "metadata": {},
   "outputs": [],
   "source": []
  }
 ],
 "metadata": {
  "kernelspec": {
   "display_name": "Python [conda env:base] *",
   "language": "python",
   "name": "conda-base-py"
  },
  "language_info": {
   "codemirror_mode": {
    "name": "ipython",
    "version": 3
   },
   "file_extension": ".py",
   "mimetype": "text/x-python",
   "name": "python",
   "nbconvert_exporter": "python",
   "pygments_lexer": "ipython3",
   "version": "3.12.7"
  }
 },
 "nbformat": 4,
 "nbformat_minor": 5
}
