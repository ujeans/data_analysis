{
 "cells": [
  {
   "cell_type": "code",
   "execution_count": 37,
   "id": "0b3ff37e-da01-467a-b42f-edcde45dbac2",
   "metadata": {},
   "outputs": [
    {
     "name": "stdout",
     "output_type": "stream",
     "text": [
      "깨어지다\n",
      "빗\n"
     ]
    }
   ],
   "source": [
    "eng = {'break': '깨어지다', \n",
    "       'bring': '가져오다', \n",
    "       'brush': '붓', \n",
    "       'brush': '빗'\n",
    "      }\n",
    "\n",
    "print(eng['break'])\n",
    "print(eng['brush'])\n"
   ]
  },
  {
   "cell_type": "code",
   "execution_count": 45,
   "id": "48ff1dbc-a9ab-41b8-887f-a5495e1c5793",
   "metadata": {},
   "outputs": [
    {
     "name": "stdout",
     "output_type": "stream",
     "text": [
      "['붓', '빗']\n",
      "붓\n",
      "빗\n"
     ]
    }
   ],
   "source": [
    "eng = {'break': '깨어지다', \n",
    "       'bring': '가져오다', \n",
    "       'brush': ['붓', '빗'], \n",
    "      }\n",
    "\n",
    "print(eng['brush'])  \n",
    "print(eng['brush'][0])\n",
    "print(eng['brush'][1])"
   ]
  },
  {
   "cell_type": "code",
   "execution_count": 49,
   "id": "41d6aa53-8c40-4718-a5da-2e7857a1f235",
   "metadata": {},
   "outputs": [
    {
     "name": "stdin",
     "output_type": "stream",
     "text": [
      "어떤 메뉴를 드시겠습니까? 김밥\n"
     ]
    },
    {
     "name": "stdout",
     "output_type": "stream",
     "text": [
      "2500 원입니다\n"
     ]
    }
   ],
   "source": [
    "menu = {\n",
    "    '김밥': 2500,\n",
    "    '참치김밥': 3500,\n",
    "    '라면': 4000,\n",
    "}\n",
    "\n",
    "eat = input('어떤 메뉴를 드시겠습니까?')\n",
    "print(menu[eat], '원입니다')"
   ]
  },
  {
   "cell_type": "code",
   "execution_count": 109,
   "id": "d1d6c5d4-81b7-43ce-9cef-e2f8bcf66dac",
   "metadata": {},
   "outputs": [
    {
     "name": "stdin",
     "output_type": "stream",
     "text": [
      "입력 43\n",
      "입력 45\n"
     ]
    },
    {
     "name": "stdout",
     "output_type": "stream",
     "text": [
      "{'김밥': 3000, '참치김밥': 2200, '라면': 4000, '돈가스': 6000, '라볶이': 7500, '45': 43}\n"
     ]
    }
   ],
   "source": [
    "menu = {\n",
    "    '김밥': 2500,\n",
    "    '참치김밥': 3500,\n",
    "    '라면': 4000,\n",
    "}\n",
    "\n",
    "menu['참치김밥'] = 3000\n",
    "menu['치즈라면'] = 3500\n",
    "menu['김밥'] += 500\n",
    "menu['참치김밥'] -= 800\n",
    "menu['돈가스'] = 6000\n",
    "menu['라볶이'] = 7500\n",
    "\n",
    "#name = input('입력')\n",
    "#price = int(input('입력'))\n",
    "#menu[name] = price\n",
    "\n",
    "menu[input('입력')] = int(input('입력'))\n",
    "\n",
    "del menu['치즈라면']\n",
    "\n",
    "print(menu)"
   ]
  },
  {
   "cell_type": "code",
   "execution_count": 67,
   "id": "093ee341-d05e-4283-9bd3-2df3536888fa",
   "metadata": {},
   "outputs": [
    {
     "name": "stdout",
     "output_type": "stream",
     "text": [
      "{}\n",
      "{'강아지': 'dog'}\n",
      "{'강아지': 'dog', '고양이': 'cat'}\n"
     ]
    }
   ],
   "source": [
    "eng = {}\n",
    "print(eng)\n",
    "eng['강아지'] = 'dog'\n",
    "print(eng)\n",
    "eng['고양이'] = 'cat'\n",
    "print(eng)"
   ]
  },
  {
   "cell_type": "code",
   "execution_count": 1,
   "id": "24e540f0-1fb3-4793-b463-b0c5cc4e2d34",
   "metadata": {},
   "outputs": [
    {
     "name": "stdout",
     "output_type": "stream",
     "text": [
      "dict_keys(['과자', '아이스크림', '휴지', '고기', '우유'])\n",
      "dict_values([1500, 1700, 4800, 10500, 2600])\n",
      "-------------------\n",
      "['과자', '아이스크림', '휴지', '고기', '우유']\n",
      "[1500, 1700, 4800, 10500, 2600]\n",
      "-------------------\n",
      "{'과자': 1500, '아이스크림': 1700, '휴지': 4800, '고기': 10500, '우유': 2600}\n",
      "dict_items([('과자', 1500), ('아이스크림', 1700), ('휴지', 4800), ('고기', 10500), ('우유', 2600)])\n",
      "-------------------\n",
      "['고기', '과자', '아이스크림', '우유', '휴지']\n",
      "['휴지', '우유', '아이스크림', '과자', '고기']\n",
      "-------------------\n",
      "[1500, 1700]\n",
      "[10500, 4800]\n",
      "-------------------\n",
      "[('고기', 10500), ('과자', 1500), ('아이스크림', 1700), ('우유', 2600), ('휴지', 4800)]\n",
      "[('휴지', 4800), ('우유', 2600), ('아이스크림', 1700), ('과자', 1500), ('고기', 10500)]\n",
      "-------------------\n",
      "[('고기', 10500), ('과자', 1500), ('아이스크림', 1700), ('우유', 2600), ('휴지', 4800)]\n",
      "[('과자', 1500), ('아이스크림', 1700), ('우유', 2600), ('휴지', 4800), ('고기', 10500)]\n",
      "-------------------\n",
      "{'과자': 1500, '아이스크림': 1700, '휴지': 4800, '고기': 10500, '우유': 2600}\n",
      "-------------------\n"
     ]
    },
    {
     "ename": "AttributeError",
     "evalue": "'list' object has no attribute 'items'",
     "output_type": "error",
     "traceback": [
      "\u001b[0;31m---------------------------------------------------------------------------\u001b[0m",
      "\u001b[0;31mAttributeError\u001b[0m                            Traceback (most recent call last)",
      "Cell \u001b[0;32mIn[1], line 44\u001b[0m\n\u001b[1;32m     41\u001b[0m \u001b[38;5;28mprint\u001b[39m(\u001b[38;5;124m\"\u001b[39m\u001b[38;5;124m-------------------\u001b[39m\u001b[38;5;124m\"\u001b[39m)\n\u001b[1;32m     43\u001b[0m mart \u001b[38;5;241m=\u001b[39m \u001b[38;5;28msorted\u001b[39m(mart\u001b[38;5;241m.\u001b[39mkeys())\n\u001b[0;32m---> 44\u001b[0m mart \u001b[38;5;241m=\u001b[39m \u001b[38;5;28mdict\u001b[39m(\u001b[38;5;28msorted\u001b[39m(mart\u001b[38;5;241m.\u001b[39mitems()))\n\u001b[1;32m     45\u001b[0m \u001b[38;5;28mprint\u001b[39m(mart)\n",
      "\u001b[0;31mAttributeError\u001b[0m: 'list' object has no attribute 'items'"
     ]
    }
   ],
   "source": [
    "import operator\n",
    "mart = {'과자': 1500, '아이스크림': 1700, '휴지': 4800, '고기': 10500, '우유': 2600}\n",
    "\n",
    "print(mart.keys())\n",
    "print(mart.values())\n",
    "\n",
    "print(\"-------------------\")\n",
    "\n",
    "print(list(mart.keys()))\n",
    "print(list(mart.values()))\n",
    "\n",
    "print(\"-------------------\")\n",
    "\n",
    "print(mart)\n",
    "print(mart.items())\n",
    "\n",
    "print(\"-------------------\")\n",
    "\n",
    "print(sorted(mart.keys()))\n",
    "print(sorted(mart.keys(), reverse=True))\n",
    "\n",
    "print(\"-------------------\")\n",
    "\n",
    "print(sorted(mart.values())[:2])\n",
    "print(sorted(mart.values(), reverse=True)[:2])\n",
    "\n",
    "print(\"-------------------\")\n",
    "\n",
    "print(sorted(mart.items()))\n",
    "print(sorted(mart.items(), reverse=True))\n",
    "\n",
    "print(\"-------------------\")\n",
    "\n",
    "print(sorted(mart.items(), key=operator.itemgetter(0)))\n",
    "print(sorted(mart.items(), key=operator.itemgetter(1)))\n",
    "\n",
    "print(\"-------------------\")\n",
    "\n",
    "print(mart)\n",
    "\n",
    "print(\"-------------------\")\n",
    "\n",
    "mart = sorted(mart.keys())\n",
    "mart = dict(sorted(mart.items()))\n",
    "print(mart)"
   ]
  },
  {
   "cell_type": "code",
   "execution_count": 47,
   "id": "0aa724f6-15ce-4319-8a52-4a338f08d230",
   "metadata": {},
   "outputs": [
    {
     "name": "stdin",
     "output_type": "stream",
     "text": [
      "이름을 입력해주세요 유진\n"
     ]
    },
    {
     "name": "stdout",
     "output_type": "stream",
     "text": [
      "해당 학생이 없습니다\n"
     ]
    }
   ],
   "source": [
    "midterm = {'도윤': 43, '하윤': 82, '시우': 76, '지유': 61, '주원': 94}\n",
    "\n",
    "name = input('이름을 입력해주세요')\n",
    "\n",
    "if name in midterm:\n",
    "    print(midterm[name])\n",
    "else:\n",
    "    print('해당 학생이 없습니다')"
   ]
  },
  {
   "cell_type": "code",
   "execution_count": 57,
   "id": "39ec2ed5-7ee1-4476-99b9-c742882ec7d2",
   "metadata": {},
   "outputs": [
    {
     "name": "stdout",
     "output_type": "stream",
     "text": [
      "<class 'dict_values'>\n",
      "도윤 하윤 시우 지유 주원 "
     ]
    }
   ],
   "source": [
    "midterm = {\n",
    "    '도윤': 43, \n",
    "    '하윤': 82, \n",
    "    '시우': 76, \n",
    "    '지유': 61, \n",
    "    '주원': 94\n",
    "}\n",
    "\n",
    "print(type(midterm.values()))\n",
    "for k in midterm.keys():\n",
    "    print(k, end=\" \")"
   ]
  },
  {
   "cell_type": "code",
   "execution_count": 55,
   "id": "adec650f-c90a-4455-ac75-1fedb7324074",
   "metadata": {},
   "outputs": [
    {
     "name": "stdout",
     "output_type": "stream",
     "text": [
      "43 82 76 61 94 "
     ]
    }
   ],
   "source": [
    "for v in midterm.values():\n",
    "    print(v, end=\" \")"
   ]
  },
  {
   "cell_type": "code",
   "execution_count": 13,
   "id": "3622a071-527c-4389-8a08-00ec0a8a9051",
   "metadata": {},
   "outputs": [
    {
     "name": "stdout",
     "output_type": "stream",
     "text": [
      "('도윤', 43) ('하윤', 82) ('시우', 76) ('지유', 61) ('주원', 94) 도윤 43 하윤 82 시우 76 지유 61 주원 94 "
     ]
    }
   ],
   "source": [
    "midterm = {\n",
    "    '도윤': 43, \n",
    "    '하윤': 82, \n",
    "    '시우': 76, \n",
    "    '지유': 61, \n",
    "    '주원': 94\n",
    "}\n",
    "\n",
    "for k in midterm.items():\n",
    "    print(k, end=\" \")\n",
    "\n",
    "for k in midterm.keys():\n",
    "    print(k, midterm[k], end=\" \")"
   ]
  },
  {
   "cell_type": "code",
   "execution_count": 15,
   "id": "38162e0b-3b80-4e53-a821-2a6c54342b71",
   "metadata": {},
   "outputs": [
    {
     "name": "stdout",
     "output_type": "stream",
     "text": [
      "도윤 43 하윤 82 시우 76 지유 61 주원 94 "
     ]
    }
   ],
   "source": [
    "midterm = {\n",
    "    '도윤': 43, \n",
    "    '하윤': 82, \n",
    "    '시우': 76, \n",
    "    '지유': 61, \n",
    "    '주원': 94\n",
    "}\n",
    "\n",
    "for k, v in midterm.items():\n",
    "    print(k, v, end=\" \")"
   ]
  },
  {
   "cell_type": "code",
   "execution_count": 21,
   "id": "b009d9c1-3005-4848-b1c3-90b120a8eb60",
   "metadata": {},
   "outputs": [
    {
     "name": "stdout",
     "output_type": "stream",
     "text": [
      "점수가 70점 이상인 학생의 이름과 점수를 모두 출력합니다.\n",
      "하윤 82\n",
      "시우 76\n",
      "주원 94\n"
     ]
    }
   ],
   "source": [
    "midterm = {\n",
    "    '도윤': 43, \n",
    "    '하윤': 82, \n",
    "    '시우': 76, \n",
    "    '지유': 61, \n",
    "    '주원': 94\n",
    "}\n",
    "\n",
    "print('점수가 70점 이상인 학생의 이름과 점수를 모두 출력합니다.')\n",
    "for k, v in midterm.items():\n",
    "    if v >= 70:\n",
    "        print(k, v)"
   ]
  },
  {
   "cell_type": "code",
   "execution_count": 25,
   "id": "b83ca788-13c8-465a-b781-c7b777e6ef3c",
   "metadata": {},
   "outputs": [
    {
     "name": "stdout",
     "output_type": "stream",
     "text": [
      "도윤 하윤 시우 지유 주원 "
     ]
    }
   ],
   "source": [
    "for m in midterm:\n",
    "    print(m, end=\" \")"
   ]
  },
  {
   "cell_type": "code",
   "execution_count": 20,
   "id": "63188281-1612-4946-8749-ea408c361d55",
   "metadata": {},
   "outputs": [
    {
     "name": "stdout",
     "output_type": "stream",
     "text": [
      "[(',', 103), ('the', 78), ('.', 41), ('and', 37), ('to', 34), ('of', 33), ('a', 24), ('his', 22), ('he', 22), ('alibaba', 17), ('in', 15), ('she', 12), ('was', 10), ('as', 10), ('her', 10), ('with', 9), ('into', 9), ('door', 8), ('him', 8), ('oil', 8), ('at', 7), ('one', 6), ('cassim', 6), ('took', 6), ('said', 6), ('out', 6), ('put', 6), ('it', 6), ('open', 5), ('which', 5), ('morgiana', 5), ('house', 5), ('captain', 5), ('went', 5), ('cogia', 5), ('hassan', 5), ('himself', 4), ('sesame', 4), ('robbers', 4), ('who', 4), ('gold', 4), ('brother', 4), ('cave', 4), ('found', 4), ('where', 4), ('two', 3), ('poor', 3), ('man', 3), ('wife', 3), ('asses', 3), ('had', 3), ('when', 3), ('troop', 3), ('approaching', 3), ('large', 3), ('them', 3), ('from', 3), ('rock', 3), ('brought', 3), ('secret', 3), ('early', 3), ('next', 3), ('morning', 3), ('mules', 3), ('great', 3), ('be', 3), ('death', 3), ('body', 3), ('pieces', 3), ('blindfolded', 3), ('for', 3), ('robber', 3), ('jar', 3), ('i', 3), ('pretended', 3), ('first', 3), ('soon', 3), ('every', 3), ('son', 3), ('herself', 3), ('lived', 2), ('other', 2), ('they', 2), ('dwelt', 2), ('wood', 2), ('forest', 2), ('cut', 2), ('hastily', 2), ('hid', 2), ('each', 2), ('loaded', 2), ('immediately', 2), ('opened', 2), ('shut', 2), ('time', 2), ('instantly', 2), ('many', 2), ('told', 2), ('set', 2), ('having', 2), ('than', 2), ('made', 2), ('that', 2), ('on', 2), ('quarters', 2), ('sent', 2), ('cobbler', 2), ('gave', 2), ('way', 2), ('back', 2), ('buried', 2), ('all', 2), ('removed', 2), ('possession', 2), ('city', 2), ('thirty-nine', 2), ('jars', 2), ('full', 2), ('rest', 2), ('me', 2), ('?', 2), ('merchant', 2), ('offered', 2), ('invited', 2), ('guest', 2), ('supper', 2), ('night', 2), ('within', 2), ('ran', 2), ('kitchen', 2), ('boiled', 2), ('coming', 2), ('shop', 2), ('opposite', 2), ('appeared', 2), ('some', 2), ('dagger', 2), ('town', 1), ('persia', 1), ('brothers', 1), ('sons', 1), ('named', 1), ('elder', 1), ('married', 1), ('considerable', 1), ('fortune', 1), ('ease', 1), ('but', 1), ('mean', 1), ('cottage', 1), ('suburbs', 1), ('maintained', 1), ('family', 1), ('by', 1), ('cutting', 1), ('preparing', 1), ('load', 1), ('faggots', 1), ('saw', 1), ('horsemen', 1), ('climbed', 1), ('thick', 1), ('tree', 1), ('among', 1), ('branches', 1), ('counted', 1), ('forty', 1), ('portmanteau', 1), ('horse', 1), ('turning', 1), ('passed', 1), ('itself', 1), ('short', 1), ('again', 1), ('came', 1), ('closed', 1), ('ventured', 1), ('down', 1), ('flew', 1), ('bags', 1), ('coin', 1), ('could', 1), ('carry', 1), ('rose', 1), ('ten', 1), ('chests', 1), ('gained', 1), ('admission', 1), ('more', 1), ('treasures', 1), ('expected', 1), ('forget', 1), ('word', 1), ('caused', 1), ('presently', 1), ('heard', 1), ('sound', 1), ('horses', 1), ('feet', 1), ('concluded', 1), ('drove', 1), ('entering', 1), ('upon', 1), ('delivered', 1), ('female', 1), ('slave', 1), ('go', 1), ('taking', 1), ('room', 1), ('lying', 1), ('bade', 1), ('sew', 1), ('mangled', 1), ('limbs', 1), ('together', 1), ('mustapha', 1), ('obeyed', 1), ('received', 1), ('led', 1), ('same', 1), ('due', 1), ('solemnity', 1), ('deceased', 1), ('resolved', 1), ('find', 1), ('possessed', 1), ('entrance', 1), ('disguising', 1), ('accosting', 1), ('job', 1), ('six', 1), ('allowed', 1), ('traced', 1), ('marked', 1), ('chalk', 1), ('buying', 1), ('nineteen', 1), ('empty', 1), ('properly', 1), ('armed', 1), ('then', 1), ('proceeded', 1), ('street', 1), ('sir', 1), ('have', 1), ('this', 1), ('sell', 1), ('am', 1), ('quite', 1), ('stranger', 1), ('will', 1), ('you', 1), ('let', 1), ('my', 1), ('your', 1), ('courtyard', 1), ('direct', 1), ('may', 1), ('lodge', 1), ('to-night', 1), ('welcomed', 1), ('bed', 1), ('own', 1), ('sitting', 1), ('up', 1), ('later', 1), ('usual', 1), ('lamp', 1), ('pot', 1), ('hand', 1), ('is', 1), ('replied', 1), ('no', 1), ('not', 1), ('yet', 1), ('so', 1), ('kettle', 1), ('filled', 1), ('fire', 1), ('poured', 1), ('sufficient', 1), ('boiling', 1), ('kill', 1), ('arose', 1), ('assemble', 1), ('men', 1), ('felt', 1), ('steam', 1), ('!', 1), ('rage', 1), ('forced', 1), ('lock', 1), ('escape', 1), ('over', 1), ('walls', 1), ('without', 1), ('letting', 1), ('any', 1), ('thieves', 1), ('bottom', 1), ('garden', 1), ('length', 1), ('however', 1), ('determined', 1), ('adopt', 1), ('new', 1), ('scheme', 1), ('destruction', 1), ('valuable', 1), ('merchandise', 1), ('exactly', 1), ('day', 1), ('very', 1), ('fond', 1), ('presents', 1), ('often', 1), ('detained', 1), ('dinner', 1), ('thought', 1), ('necessary', 1), ('make', 1), ('return', 1), ('these', 1), ('civilities', 1), ('carried', 1), ('dish', 1), ('moment', 1), ('looked', 1), ('knew', 1), ('slaves', 1), ('waited', 1), ('table', 1), ('while', 1), ('drinking', 1), ('perceived', 1), ('under', 1), ('coat', 1), ('away', 1), ('dressed', 1), ('habit', 1), ('dancing-girl', 1), ('parlor', 1), ('master', 1), ('ordered', 1), ('come', 1), ('entertain', 1), ('best', 1), ('dancing', 1), ('danced', 1), ('several', 1), ('times', 1), ('before', 1), ('assembled', 1), ('company', 1), ('until', 1), ('drew', 1), ('girdle', 1), ('plunged', 1), ('heart', 1), ('reward', 1), ('faithfulness', 1), ('marriage', 1), ('immense', 1), ('wealth', 1)]\n"
     ]
    }
   ],
   "source": [
    "import operator\n",
    "alibaba = \"in a town of persia lived two brothers , sons of a poor man , one named cassim , the other alibaba . cassim , the elder , married a wife with a considerable fortune , and lived at his ease , but the wife of alibaba was as poor as himself . they dwelt in a mean cottage in the suburbs , and he maintained his family by cutting wood . alibaba was in the forest preparing to load his asses with the faggots he had cut , when he saw a troop of horsemen approaching . he hastily climbed a large thick tree , and hid himself among the branches . alibaba counted forty of them , each took a loaded portmanteau from his horse , and turning to the rock , said , open , sesame immediately a door opened , the robbers passed in , when the door shut of itself . in a short time the door opened again , and the robbers came out , who said , shut , sesame . the door instantly closed . alibaba ventured down , and approaching the rock , said , open , sesame . immediately the door flew open . he brought his asses , and took as many bags of gold coin as they could carry . alibaba told his brother the secret of the cave . cassim rose early next morning , and set out with ten mules loaded with great chests . he found the rock , and having said , open sesame , gained admission , where he found more treasures than he expected , which made him forget the word that caused the door to open . presently he heard the sound of horses feet , which he concluded to be the robbers , who instantly put him to death . alibaba drove to the forest , and on entering the cave , he found the body of his brother cut into quarters . he took the quarters , and put them upon one of his asses , and delivered the body to cassim wife . morgiana , a female slave in his brother house , was sent early next morning to a poor cobbler , and gave him two pieces of gold to go with her blindfolded , taking him into the room where the body was lying , bade him sew the mangled limbs together . mustapha obeyed , having received two pieces of gold , and was led blindfolded the same way back . cassim was buried with all due solemnity , and alibaba removed to the house of his deceased brother , of which he took possession . the captain of the troop resolved to find out who possessed the secret of entrance into his cave , and disguising himself , went to the city early one morning , when , accosting the cobbler , he was told of the job he had , who for six pieces of gold , allowed himself to be blindfolded , and traced out the house of cassim , which the robber marked with chalk . buying nineteen mules and thirty-nine large jars , one full of oil , and the rest empty , the captain put a man into each jar , properly armed , and then proceeded to the street where alibaba dwelt . sir , said he , i have brought this oil a great way to sell , as i am quite a stranger , will you let me put my mules into your courtyard , and direct me where i may lodge to-night ? alibaba welcomed the pretended oil merchant , offered him a bed in his own house , and invited his guest in to supper . morgiana , sitting up later that night than usual , her lamp went out . she took her oil pot in her hand , and approaching the first jar , the robber within said is it time , captain ? she replied , no , not yet . so she ran back to the kitchen , and brought out a large kettle , which she filled with oil , set it on a great wood fire , and as soon as it boiled , she went and poured into the jars sufficient of the boiling oil to kill every man within . the captain of the robbers arose to assemble his men . coming to the first jar , he felt the steam of the boiled oil ! he ran hastily to the rest , and found every one of his troop put to death . full of rage , he forced the lock of the door , and made his escape over the walls . without letting any one into the secret , alibaba and morgiana the next night buried the thirty-nine thieves at the bottom of the garden . the captain at length , however , determined to adopt a new scheme for the destruction of alibaba . he removed all the valuable merchandise from the cave to the city , and took a shop exactly opposite to alibaba house . alibaba son went every day to his shop . the pretended cogia hassan soon appeared to be very fond of alibaba son , offered him many presents , and often detained him to dinner . alibaba thought it was necessary to make some return to these civilities , and he invited cogia hassan to supper , morgiana carried in the first dish herself . the moment she looked at cogia hassan , she knew it was the pretended oil merchant . she sent the other slaves into the kitchen , and waited at table herself , and while cogia hassan was drinking , she perceived he had a dagger hid under his coat . she went away , and dressed herself in the habit of a dancing-girl . as soon as she appeared at the parlor door , her master ordered her to come in to entertain his guest with some of her best dancing . morgiana danced several times before the assembled company , until , coming opposite cogia hassan , she drew a dagger from her girdle and plunged it into the robber heart . as a reward for her faithfulness , alibaba gave her in marriage to his son , and at his death put them in possession of his immense wealth .\"\n",
    "\n",
    "vocab = {}\n",
    "\n",
    "word_list = alibaba.split()\n",
    "\n",
    "for w in word_list:\n",
    "    if w not in vocab.keys():\n",
    "        vocab[w] = 1\n",
    "    else:\n",
    "        vocab[w] += 1\n",
    "# print(vocab)\n",
    "print(sorted(vocab.items(), key=operator.itemgetter(1), reverse=True))"
   ]
  },
  {
   "cell_type": "code",
   "execution_count": 22,
   "id": "41d5be8e-3bd0-4b88-a153-8fc3d013fb84",
   "metadata": {},
   "outputs": [
    {
     "name": "stdout",
     "output_type": "stream",
     "text": [
      "{'town': 1, 'persia': 1, 'lived': 2, 'two': 3, 'brothers': 1, 'sons': 1, 'poor': 3, 'man': 3, 'one': 6, 'named': 1, 'cassim': 6, 'other': 2, 'alibaba': 17, 'elder': 1, 'married': 1, 'wife': 3, 'considerable': 1, 'fortune': 1, 'ease': 1, 'himself': 4, 'dwelt': 2, 'mean': 1, 'cottage': 1, 'suburbs': 1, 'maintained': 1, 'family': 1, 'by': 1, 'cutting': 1, 'wood': 2, 'forest': 2, 'preparing': 1, 'load': 1, 'asses': 3, 'faggots': 1, 'cut': 2, 'when': 3, 'saw': 1, 'troop': 3, 'horsemen': 1, 'approaching': 3, 'hastily': 2, 'climbed': 1, 'large': 3, 'thick': 1, 'tree': 1, 'hid': 2, 'among': 1, 'branches': 1, 'counted': 1, 'forty': 1, 'each': 2, 'took': 6, 'loaded': 2, 'portmanteau': 1, 'horse': 1, 'turning': 1, 'rock': 3, 'said': 6, 'open': 5, 'sesame': 4, 'immediately': 2, 'door': 8, 'opened': 2, 'robbers': 4, 'passed': 1, 'shut': 2, 'itself': 1, 'short': 1, 'time': 2, 'again': 1, 'came': 1, 'out': 6, 'who': 4, 'instantly': 2, 'closed': 1, 'ventured': 1, 'down': 1, 'flew': 1, 'brought': 3, 'many': 2, 'bags': 1, 'gold': 4, 'coin': 1, 'could': 1, 'carry': 1, 'told': 2, 'brother': 4, 'secret': 3, 'cave': 4, 'rose': 1, 'early': 3, 'next': 3, 'morning': 3, 'set': 2, 'ten': 1, 'mules': 3, 'great': 3, 'chests': 1, 'found': 4, 'having': 2, 'gained': 1, 'admission': 1, 'where': 4, 'more': 1, 'treasures': 1, 'than': 2, 'expected': 1, 'which': 5, 'made': 2, 'forget': 1, 'word': 1, 'caused': 1, 'presently': 1, 'heard': 1, 'sound': 1, 'horses': 1, 'feet': 1, 'concluded': 1, 'put': 6, 'death': 3, 'drove': 1, 'on': 2, 'entering': 1, 'body': 3, 'quarters': 2, 'upon': 1, 'delivered': 1, 'morgiana': 5, 'female': 1, 'slave': 1, 'house': 5, 'sent': 2, 'cobbler': 2, 'gave': 2, 'pieces': 3, 'go': 1, 'blindfolded': 3, 'taking': 1, 'room': 1, 'lying': 1, 'bade': 1, 'sew': 1, 'mangled': 1, 'limbs': 1, 'together': 1, 'mustapha': 1, 'obeyed': 1, 'received': 1, 'led': 1, 'same': 1, 'way': 2, 'back': 2, 'buried': 2, 'all': 2, 'due': 1, 'solemnity': 1, 'removed': 2, 'deceased': 1, 'possession': 2, 'captain': 5, 'resolved': 1, 'find': 1, 'possessed': 1, 'entrance': 1, 'disguising': 1, 'went': 5, 'city': 2, 'accosting': 1, 'job': 1, 'six': 1, 'allowed': 1, 'traced': 1, 'robber': 3, 'marked': 1, 'chalk': 1, 'buying': 1, 'nineteen': 1, 'thirty-nine': 2, 'jars': 2, 'full': 2, 'oil': 8, 'rest': 2, 'empty': 1, 'jar': 3, 'properly': 1, 'armed': 1, 'proceeded': 1, 'street': 1, 'sir': 1, 'have': 1, 'sell': 1, 'am': 1, 'quite': 1, 'stranger': 1, 'will': 1, 'let': 1, 'my': 1, 'your': 1, 'courtyard': 1, 'direct': 1, 'may': 1, 'lodge': 1, 'to-night': 1, 'welcomed': 1, 'pretended': 3, 'merchant': 2, 'offered': 2, 'bed': 1, 'own': 1, 'invited': 2, 'guest': 2, 'supper': 2, 'sitting': 1, 'up': 1, 'later': 1, 'night': 2, 'usual': 1, 'lamp': 1, 'pot': 1, 'hand': 1, 'first': 3, 'within': 2, 'is': 1, 'replied': 1, 'no': 1, 'not': 1, 'yet': 1, 'so': 1, 'ran': 2, 'kitchen': 2, 'kettle': 1, 'filled': 1, 'fire': 1, 'soon': 3, 'boiled': 2, 'poured': 1, 'sufficient': 1, 'boiling': 1, 'kill': 1, 'every': 3, 'arose': 1, 'assemble': 1, 'men': 1, 'coming': 2, 'felt': 1, 'steam': 1, 'rage': 1, 'forced': 1, 'lock': 1, 'escape': 1, 'over': 1, 'walls': 1, 'without': 1, 'letting': 1, 'any': 1, 'thieves': 1, 'bottom': 1, 'garden': 1, 'length': 1, 'however': 1, 'determined': 1, 'adopt': 1, 'new': 1, 'scheme': 1, 'destruction': 1, 'valuable': 1, 'merchandise': 1, 'shop': 2, 'exactly': 1, 'opposite': 2, 'son': 3, 'day': 1, 'cogia': 5, 'hassan': 5, 'appeared': 2, 'very': 1, 'fond': 1, 'presents': 1, 'often': 1, 'detained': 1, 'dinner': 1, 'thought': 1, 'necessary': 1, 'make': 1, 'some': 2, 'return': 1, 'these': 1, 'civilities': 1, 'carried': 1, 'dish': 1, 'herself': 3, 'moment': 1, 'looked': 1, 'knew': 1, 'slaves': 1, 'waited': 1, 'table': 1, 'while': 1, 'drinking': 1, 'perceived': 1, 'dagger': 2, 'under': 1, 'coat': 1, 'away': 1, 'dressed': 1, 'habit': 1, 'dancing-girl': 1, 'parlor': 1, 'master': 1, 'ordered': 1, 'come': 1, 'entertain': 1, 'best': 1, 'dancing': 1, 'danced': 1, 'several': 1, 'times': 1, 'before': 1, 'assembled': 1, 'company': 1, 'until': 1, 'drew': 1, 'girdle': 1, 'plunged': 1, 'heart': 1, 'reward': 1, 'faithfulness': 1, 'marriage': 1, 'immense': 1, 'wealth': 1}\n"
     ]
    }
   ],
   "source": [
    "meaningless = ['.', ',', '!', '?', 'the', 'he', 'and', 'to', 'a', 'of', \n",
    "               'was', 'in', 'had', 'for', 'it', 'that', 'but', 'as', 'with', \n",
    "               'at', 'i', 'into', 'be', 'this', 'me', 'from', 'then', 'him', \n",
    "               'his', 'her', 'she','they', 'them', 'you']\n",
    "\n",
    "# for word in meaningless:\n",
    "#     if word in vocab:\n",
    "#         del vocab[word]\n",
    "# print(vocab)"
   ]
  },
  {
   "cell_type": "code",
   "execution_count": 36,
   "id": "8bd8d02d-b589-4a3a-8c8e-b106dacc803b",
   "metadata": {},
   "outputs": [
    {
     "name": "stdout",
     "output_type": "stream",
     "text": [
      "[('alibaba', 17), ('door', 8), ('oil', 8), ('one', 6), ('cassim', 6), ('took', 6), ('said', 6), ('out', 6), ('put', 6), ('open', 5), ('which', 5), ('morgiana', 5), ('house', 5), ('captain', 5), ('went', 5), ('cogia', 5), ('hassan', 5), ('himself', 4), ('sesame', 4), ('robbers', 4), ('who', 4), ('gold', 4), ('brother', 4), ('cave', 4), ('found', 4), ('where', 4), ('two', 3), ('poor', 3), ('man', 3), ('wife', 3), ('asses', 3), ('when', 3), ('troop', 3), ('approaching', 3), ('large', 3), ('rock', 3), ('brought', 3), ('secret', 3), ('early', 3), ('next', 3), ('morning', 3), ('mules', 3), ('great', 3), ('death', 3), ('body', 3), ('pieces', 3), ('blindfolded', 3), ('robber', 3), ('jar', 3), ('pretended', 3), ('first', 3), ('soon', 3), ('every', 3), ('son', 3), ('herself', 3), ('lived', 2), ('other', 2), ('dwelt', 2), ('wood', 2), ('forest', 2), ('cut', 2), ('hastily', 2), ('hid', 2), ('each', 2), ('loaded', 2), ('immediately', 2), ('opened', 2), ('shut', 2), ('time', 2), ('instantly', 2), ('many', 2), ('told', 2), ('set', 2), ('having', 2), ('than', 2), ('made', 2), ('on', 2), ('quarters', 2), ('sent', 2), ('cobbler', 2), ('gave', 2), ('way', 2), ('back', 2), ('buried', 2), ('all', 2), ('removed', 2), ('possession', 2), ('city', 2), ('thirty-nine', 2), ('jars', 2), ('full', 2), ('rest', 2), ('merchant', 2), ('offered', 2), ('invited', 2), ('guest', 2), ('supper', 2), ('night', 2), ('within', 2), ('ran', 2), ('kitchen', 2), ('boiled', 2), ('coming', 2), ('shop', 2), ('opposite', 2), ('appeared', 2), ('some', 2), ('dagger', 2), ('town', 1), ('persia', 1), ('brothers', 1), ('sons', 1), ('named', 1), ('elder', 1), ('married', 1), ('considerable', 1), ('fortune', 1), ('ease', 1), ('mean', 1), ('cottage', 1), ('suburbs', 1), ('maintained', 1), ('family', 1), ('by', 1), ('cutting', 1), ('preparing', 1), ('load', 1), ('faggots', 1), ('saw', 1), ('horsemen', 1), ('climbed', 1), ('thick', 1), ('tree', 1), ('among', 1), ('branches', 1), ('counted', 1), ('forty', 1), ('portmanteau', 1), ('horse', 1), ('turning', 1), ('passed', 1), ('itself', 1), ('short', 1), ('again', 1), ('came', 1), ('closed', 1), ('ventured', 1), ('down', 1), ('flew', 1), ('bags', 1), ('coin', 1), ('could', 1), ('carry', 1), ('rose', 1), ('ten', 1), ('chests', 1), ('gained', 1), ('admission', 1), ('more', 1), ('treasures', 1), ('expected', 1), ('forget', 1), ('word', 1), ('caused', 1), ('presently', 1), ('heard', 1), ('sound', 1), ('horses', 1), ('feet', 1), ('concluded', 1), ('drove', 1), ('entering', 1), ('upon', 1), ('delivered', 1), ('female', 1), ('slave', 1), ('go', 1), ('taking', 1), ('room', 1), ('lying', 1), ('bade', 1), ('sew', 1), ('mangled', 1), ('limbs', 1), ('together', 1), ('mustapha', 1), ('obeyed', 1), ('received', 1), ('led', 1), ('same', 1), ('due', 1), ('solemnity', 1), ('deceased', 1), ('resolved', 1), ('find', 1), ('possessed', 1), ('entrance', 1), ('disguising', 1), ('accosting', 1), ('job', 1), ('six', 1), ('allowed', 1), ('traced', 1), ('marked', 1), ('chalk', 1), ('buying', 1), ('nineteen', 1), ('empty', 1), ('properly', 1), ('armed', 1), ('proceeded', 1), ('street', 1), ('sir', 1), ('have', 1), ('sell', 1), ('am', 1), ('quite', 1), ('stranger', 1), ('will', 1), ('let', 1), ('my', 1), ('your', 1), ('courtyard', 1), ('direct', 1), ('may', 1), ('lodge', 1), ('to-night', 1), ('welcomed', 1), ('bed', 1), ('own', 1), ('sitting', 1), ('up', 1), ('later', 1), ('usual', 1), ('lamp', 1), ('pot', 1), ('hand', 1), ('is', 1), ('replied', 1), ('no', 1), ('not', 1), ('yet', 1), ('so', 1), ('kettle', 1), ('filled', 1), ('fire', 1), ('poured', 1), ('sufficient', 1), ('boiling', 1), ('kill', 1), ('arose', 1), ('assemble', 1), ('men', 1), ('felt', 1), ('steam', 1), ('rage', 1), ('forced', 1), ('lock', 1), ('escape', 1), ('over', 1), ('walls', 1), ('without', 1), ('letting', 1), ('any', 1), ('thieves', 1), ('bottom', 1), ('garden', 1), ('length', 1), ('however', 1), ('determined', 1), ('adopt', 1), ('new', 1), ('scheme', 1), ('destruction', 1), ('valuable', 1), ('merchandise', 1), ('exactly', 1), ('day', 1), ('very', 1), ('fond', 1), ('presents', 1), ('often', 1), ('detained', 1), ('dinner', 1), ('thought', 1), ('necessary', 1), ('make', 1), ('return', 1), ('these', 1), ('civilities', 1), ('carried', 1), ('dish', 1), ('moment', 1), ('looked', 1), ('knew', 1), ('slaves', 1), ('waited', 1), ('table', 1), ('while', 1), ('drinking', 1), ('perceived', 1), ('under', 1), ('coat', 1), ('away', 1), ('dressed', 1), ('habit', 1), ('dancing-girl', 1), ('parlor', 1), ('master', 1), ('ordered', 1), ('come', 1), ('entertain', 1), ('best', 1), ('dancing', 1), ('danced', 1), ('several', 1), ('times', 1), ('before', 1), ('assembled', 1), ('company', 1), ('until', 1), ('drew', 1), ('girdle', 1), ('plunged', 1), ('heart', 1), ('reward', 1), ('faithfulness', 1), ('marriage', 1), ('immense', 1), ('wealth', 1)]\n",
      "\n",
      "\n",
      "\n",
      "\n",
      "\n",
      "\n",
      "\n",
      "\n",
      "\n",
      "\n",
      "\n",
      "\n",
      "\n",
      "\n",
      "\n",
      "\n",
      "\n",
      "\n",
      "\n",
      "\n",
      "\n",
      "\n",
      "\n",
      "\n",
      "\n",
      "\n",
      "\n",
      "\n",
      "\n",
      "\n",
      "\n",
      "\n",
      "\n",
      "\n",
      "\n",
      "\n",
      "\n",
      "\n",
      "\n",
      "\n",
      "\n",
      "\n",
      "\n",
      "\n",
      "\n",
      "\n",
      "\n",
      "\n",
      "\n",
      "\n",
      "\n",
      "\n",
      "\n",
      "\n",
      "\n",
      "\n",
      "\n",
      "\n",
      "\n",
      "\n",
      "\n",
      "\n",
      "\n",
      "\n",
      "\n",
      "\n",
      "\n",
      "\n",
      "\n",
      "\n",
      "\n",
      "\n",
      "\n",
      "\n",
      "\n",
      "\n",
      "\n",
      "\n",
      "\n",
      "\n",
      "\n",
      "\n",
      "\n",
      "\n",
      "\n",
      "\n",
      "\n",
      "\n",
      "\n",
      "\n",
      "\n",
      "\n",
      "\n",
      "\n",
      "\n",
      "\n",
      "\n",
      "\n",
      "\n",
      "\n",
      "\n",
      "\n",
      "\n",
      "\n",
      "\n",
      "\n",
      "\n",
      "\n",
      "\n",
      "\n",
      "\n",
      "\n",
      "\n",
      "\n",
      "\n",
      "\n",
      "\n",
      "\n",
      "\n",
      "\n",
      "\n",
      "\n",
      "\n",
      "\n",
      "\n",
      "\n",
      "\n",
      "\n",
      "\n",
      "\n",
      "\n",
      "\n",
      "\n",
      "\n",
      "\n",
      "\n",
      "\n",
      "\n",
      "\n",
      "\n",
      "\n",
      "\n",
      "\n",
      "\n",
      "\n",
      "\n",
      "\n",
      "\n",
      "\n",
      "\n",
      "\n",
      "\n",
      "\n",
      "\n",
      "\n",
      "\n",
      "\n",
      "\n",
      "\n",
      "\n",
      "\n",
      "\n",
      "\n",
      "\n",
      "\n",
      "\n",
      "\n",
      "\n",
      "\n",
      "\n",
      "\n",
      "\n",
      "\n",
      "\n",
      "\n",
      "\n",
      "\n",
      "\n",
      "\n",
      "\n",
      "\n",
      "\n",
      "\n",
      "\n",
      "\n",
      "\n",
      "\n",
      "\n",
      "\n",
      "\n",
      "\n",
      "\n",
      "\n",
      "\n",
      "\n",
      "\n",
      "\n",
      "\n",
      "\n",
      "\n",
      "\n",
      "\n",
      "\n",
      "\n",
      "\n",
      "\n",
      "\n",
      "\n",
      "\n",
      "\n",
      "\n",
      "\n",
      "\n",
      "\n",
      "\n",
      "\n",
      "\n",
      "\n",
      "\n",
      "\n",
      "\n",
      "\n",
      "\n",
      "\n",
      "\n",
      "\n",
      "\n",
      "\n",
      "\n",
      "\n",
      "\n",
      "\n",
      "\n",
      "\n",
      "\n",
      "\n",
      "\n",
      "\n",
      "\n",
      "\n",
      "\n",
      "\n",
      "\n",
      "\n",
      "\n",
      "\n",
      "\n",
      "\n",
      "\n",
      "\n",
      "\n",
      "\n",
      "\n",
      "\n",
      "\n",
      "\n",
      "\n",
      "\n",
      "\n",
      "\n",
      "\n",
      "\n",
      "\n",
      "\n",
      "\n",
      "\n",
      "\n",
      "\n",
      "\n",
      "\n",
      "\n",
      "\n",
      "\n",
      "\n",
      "\n",
      "\n",
      "\n",
      "\n",
      "\n",
      "\n",
      "\n",
      "\n",
      "\n",
      "\n",
      "\n",
      "\n",
      "\n",
      "\n",
      "\n",
      "\n",
      "\n",
      "\n",
      "\n",
      "\n",
      "\n",
      "\n",
      "\n",
      "\n",
      "\n",
      "\n",
      "\n",
      "\n",
      "\n",
      "\n",
      "\n",
      "\n",
      "\n",
      "\n",
      "\n",
      "\n",
      "\n",
      "\n",
      "\n",
      "\n",
      "\n",
      "\n",
      "\n",
      "\n",
      "\n",
      "\n",
      "\n",
      "\n",
      "\n",
      "\n",
      "\n",
      "\n",
      "\n",
      "\n",
      "\n",
      "\n"
     ]
    }
   ],
   "source": [
    "import operator\n",
    "\n",
    "vocab_final = sorted(vocab.items(), key=operator.itemgetter(1), reverse=True)\n",
    "print(vocab_final)\n",
    "\n",
    "for k, v in vocab_final:\n",
    "    print()"
   ]
  },
  {
   "cell_type": "code",
   "execution_count": 14,
   "id": "6be73fea-77f1-474f-b1ff-82eba19c862f",
   "metadata": {},
   "outputs": [
    {
     "name": "stdout",
     "output_type": "stream",
     "text": [
      "{'월요일': 'Mon', '화요일': 'Tue', '수요일': 'Wed', '목요일': 'Thu', '금요일': 'Fri', '토요일': 'Sat', '일요일': 'Sun'}\n"
     ]
    }
   ],
   "source": [
    "day ={\n",
    "    '월요일': 'Mon',\n",
    "    '화요일': 'Tue',\n",
    "    '수요일': 'Wed',\n",
    "    '목요일': 'Thu',\n",
    "    '금요일': 'Fri',\n",
    "}\n",
    "\n",
    "day['토요일'] = 'Sat'\n",
    "day['일요일'] = 'Sun'\n",
    "\n",
    "print(day)"
   ]
  },
  {
   "cell_type": "code",
   "execution_count": 16,
   "id": "cabff3ee-4e65-4ddf-b0b8-1c5ca66c9bd9",
   "metadata": {},
   "outputs": [
    {
     "name": "stdout",
     "output_type": "stream",
     "text": [
      "{'월요일': 'Mon', '화요일': 'Tue', '수요일': 'Wed', '목요일': 'Thu', '금요일': 'Fri', '토요일': 'Sat', '일요일': 'SUN'}\n"
     ]
    }
   ],
   "source": [
    "day['일요일'] = 'SUN'\n",
    "print(day)"
   ]
  },
  {
   "cell_type": "code",
   "execution_count": 18,
   "id": "cd882db0-9e83-4b90-94fd-a2b6f0bf5863",
   "metadata": {},
   "outputs": [
    {
     "name": "stdout",
     "output_type": "stream",
     "text": [
      "{'월요일': 'Mon', '화요일': 'Tue', '목요일': 'Thu', '금요일': 'Fri', '토요일': 'Sat', '일요일': 'SUN'}\n"
     ]
    }
   ],
   "source": [
    "del day['수요일']\n",
    "print(day)"
   ]
  },
  {
   "cell_type": "code",
   "execution_count": 75,
   "id": "972bd61e-583d-4187-bd7c-5ba4de7498a9",
   "metadata": {},
   "outputs": [
    {
     "name": "stdout",
     "output_type": "stream",
     "text": [
      "{'역사대모험': 22000.0, '영단어': 9900.0, '파이썬': 18700.0, '여행에세이': 24200.000000000004, '삼국지': 36300.0}\n"
     ]
    }
   ],
   "source": [
    "book = {\n",
    "    '역사대모험': 20000,\n",
    "    '영단어': 9000,\n",
    "    '파이썬': 17000,\n",
    "    '여행에세이': 22000,\n",
    "    '삼국지': 33000\n",
    "}\n",
    "\n",
    "for key in book:\n",
    "    if book[key] <= 150000:\n",
    "        book[key] *= 1.1\n",
    "    else:\n",
    "        book[key] *= 1.05\n",
    "print(book)"
   ]
  },
  {
   "cell_type": "code",
   "execution_count": 57,
   "id": "a612adc0-d6f5-4c15-b870-04a28d0f11f2",
   "metadata": {},
   "outputs": [
    {
     "name": "stdout",
     "output_type": "stream",
     "text": [
      "[('라이언', 956412), ('니니즈', 861832), ('어피치', 796354), ('프로도', 544840), ('네오', 387896)]\n"
     ]
    }
   ],
   "source": [
    "import operator\n",
    "\n",
    "ranking = {\n",
    "    '라이언': 956412,\n",
    "    '어피치': 796354,\n",
    "    '니니즈': 861832,\n",
    "    '네오': 387896,\n",
    "    '프로도': 544840\n",
    "}\n",
    "\n",
    "sorted_ranking = sorted(ranking.items(), key=operator.itemgetter(1), reverse=True)\n",
    "print(sorted_ranking)"
   ]
  },
  {
   "cell_type": "code",
   "execution_count": null,
   "id": "7b2803b0-3056-4b04-a395-55b30b741cde",
   "metadata": {},
   "outputs": [],
   "source": []
  }
 ],
 "metadata": {
  "kernelspec": {
   "display_name": "Python [conda env:base] *",
   "language": "python",
   "name": "conda-base-py"
  },
  "language_info": {
   "codemirror_mode": {
    "name": "ipython",
    "version": 3
   },
   "file_extension": ".py",
   "mimetype": "text/x-python",
   "name": "python",
   "nbconvert_exporter": "python",
   "pygments_lexer": "ipython3",
   "version": "3.12.7"
  }
 },
 "nbformat": 4,
 "nbformat_minor": 5
}
