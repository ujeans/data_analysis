{
 "cells": [
  {
   "cell_type": "code",
   "execution_count": 7,
   "metadata": {},
   "outputs": [
    {
     "name": "stdout",
     "output_type": "stream",
     "text": [
      "<class '__main__.Character'>\n"
     ]
    }
   ],
   "source": [
    "class Character:\n",
    "  def hi():\n",
    "    print('안녕하세요')\n",
    "swordsman = Character()\n",
    "\n",
    "print(type(swordsman))"
   ]
  },
  {
   "cell_type": "code",
   "execution_count": 9,
   "metadata": {},
   "outputs": [
    {
     "ename": "TypeError",
     "evalue": "Character.hi() takes 0 positional arguments but 1 was given",
     "output_type": "error",
     "traceback": [
      "\u001b[0;31m---------------------------------------------------------------------------\u001b[0m",
      "\u001b[0;31mTypeError\u001b[0m                                 Traceback (most recent call last)",
      "Cell \u001b[0;32mIn[9], line 4\u001b[0m\n\u001b[1;32m      1\u001b[0m fairy \u001b[38;5;241m=\u001b[39m Character()\n\u001b[1;32m      2\u001b[0m thief \u001b[38;5;241m=\u001b[39m Character()\n\u001b[0;32m----> 4\u001b[0m swordsman\u001b[38;5;241m.\u001b[39mhi()\n",
      "\u001b[0;31mTypeError\u001b[0m: Character.hi() takes 0 positional arguments but 1 was given"
     ]
    }
   ],
   "source": [
    "fairy = Character()\n",
    "thief = Character()\n",
    "\n",
    "swordsman.hi()"
   ]
  },
  {
   "cell_type": "code",
   "execution_count": 23,
   "metadata": {},
   "outputs": [
    {
     "name": "stdout",
     "output_type": "stream",
     "text": [
      "안녕 난 검술사\n",
      "안녕 난 요정\n",
      "안녕 난 도적\n"
     ]
    }
   ],
   "source": [
    "class Character:\n",
    "    def hi(self, name):\n",
    "        print('안녕 난', name)\n",
    "\n",
    "swordsman = Character()\n",
    "swordsman.hi('검술사')\n",
    "\n",
    "fairy = Character()\n",
    "fairy.hi('요정')\n",
    "\n",
    "thief = Character()\n",
    "thief.hi('도적')"
   ]
  },
  {
   "cell_type": "code",
   "execution_count": 25,
   "metadata": {},
   "outputs": [
    {
     "name": "stdout",
     "output_type": "stream",
     "text": [
      "안녕 난 검술사\n",
      "도적 을/를 공격합니다\n",
      "요정 을/를 공격합니다\n"
     ]
    }
   ],
   "source": [
    "class Character:\n",
    "    def hi(self, name):\n",
    "        print('안녕 난', name)\n",
    "    def attack(self, target):\n",
    "        print(target, '을/를 공격합니다')\n",
    "\n",
    "swordsman = Character()\n",
    "swordsman.hi('검술사')\n",
    "\n",
    "swordsman.attack('도적')\n",
    "swordsman.attack('요정')"
   ]
  },
  {
   "cell_type": "code",
   "execution_count": 45,
   "metadata": {},
   "outputs": [
    {
     "ename": "TypeError",
     "evalue": "Character.__init__() missing 3 required positional arguments: 'name', 'hp', and 'ad'",
     "output_type": "error",
     "traceback": [
      "\u001b[0;31m---------------------------------------------------------------------------\u001b[0m",
      "\u001b[0;31mTypeError\u001b[0m                                 Traceback (most recent call last)",
      "Cell \u001b[0;32mIn[45], line 10\u001b[0m\n\u001b[1;32m      7\u001b[0m     \u001b[38;5;28;01mdef\u001b[39;00m \u001b[38;5;21mattack\u001b[39m(\u001b[38;5;28mself\u001b[39m, target):\n\u001b[1;32m      8\u001b[0m         \u001b[38;5;28mprint\u001b[39m(target, \u001b[38;5;124m'\u001b[39m\u001b[38;5;124m을/를 공격합니다.\u001b[39m\u001b[38;5;124m'\u001b[39m)\n\u001b[0;32m---> 10\u001b[0m swordsman \u001b[38;5;241m=\u001b[39m Character()\n",
      "\u001b[0;31mTypeError\u001b[0m: Character.__init__() missing 3 required positional arguments: 'name', 'hp', and 'ad'"
     ]
    }
   ],
   "source": [
    "class Character:\n",
    "    def __init__(self, name, hp, ad):\n",
    "        self.name = name\n",
    "        self.strength = hp\n",
    "        self.attack_damage = ad\n",
    "        print('Character 클래스의 객체 생성 =>', self.name)\n",
    "    def attack(self, target):\n",
    "        print(target, '을/를 공격합니다.')\n",
    "\n",
    "swordsman = Character()"
   ]
  },
  {
   "cell_type": "code",
   "execution_count": 47,
   "metadata": {},
   "outputs": [
    {
     "name": "stdout",
     "output_type": "stream",
     "text": [
      "Character 클래스의 객체 생성 => 검술사\n"
     ]
    }
   ],
   "source": [
    "swordsman = Character('검술사', 100, 10)"
   ]
  },
  {
   "cell_type": "code",
   "execution_count": 49,
   "metadata": {},
   "outputs": [
    {
     "name": "stdout",
     "output_type": "stream",
     "text": [
      "검술사 100 10\n"
     ]
    }
   ],
   "source": [
    "print(swordsman.name, swordsman.strength, swordsman.attack_damage)"
   ]
  },
  {
   "cell_type": "code",
   "execution_count": 69,
   "metadata": {},
   "outputs": [
    {
     "name": "stdout",
     "output_type": "stream",
     "text": [
      "Character 클래스의 객체 생성 => 검술사\n",
      "이름 => 검술사 , 체력 => 100 , 공격력 => 10\n",
      "Character 클래스의 객체 생성 => 요정\n",
      "이름 => 요정 , 체력 => 60 , 공격력 => 5\n",
      "Character 클래스의 객체 생성 => 도적\n",
      "이름 => 도적 , 체력 => 85 , 공격력 => 8\n",
      "변경 전 -------\n",
      "이름 => 검술사 , 체력 => 100 , 공격력 => 10\n",
      "변경 후 -------\n",
      "이름 => 검술사 , 체력 => 144.0 , 공격력 => 20\n"
     ]
    }
   ],
   "source": [
    "class Character:\n",
    "    def __init__(self, name, hp, ad):\n",
    "        self.name = name\n",
    "        self.strength = hp\n",
    "        self.attack_damage = ad\n",
    "        print('Character 클래스의 객체 생성 =>', self.name)\n",
    "    def information(self):\n",
    "        print('이름 =>', self.name, ', 체력 =>', self.strength, ', 공격력 =>', self.attack_damage)\n",
    "    def attack(self, target):\n",
    "        print(self.name, '이/가', target.name, '(', target.strength ,') 을/를 공격합니다.')\n",
    "        #공격받은 대상의 체력을 공격력만큼 감소시키기\n",
    "        target.strength -= self.attack_damage\n",
    "        print('공격 성공!', target.name, '(', target.strength, ')')\n",
    "    def level_up(self):\n",
    "        self.strength *= 1.2\n",
    "        self.attack_damage += 5\n",
    "\n",
    "swordsman = Character('검술사', 100, 10)\n",
    "swordsman.information()\n",
    "\n",
    "fairy = Character('요정', 60, 5)\n",
    "fairy.information()\n",
    "\n",
    "theif = Character('도적', 85, 8)\n",
    "theif.information()\n",
    "\n",
    "print('변경 전 -------')\n",
    "swordsman.information()\n",
    "\n",
    "swordsman.strength = 120\n",
    "swordsman.attack_damage = 15\n",
    "\n",
    "swordsman.level_up()\n",
    "print('변경 후 -------')\n",
    "swordsman.information()"
   ]
  },
  {
   "cell_type": "code",
   "execution_count": 71,
   "metadata": {},
   "outputs": [
    {
     "name": "stdout",
     "output_type": "stream",
     "text": [
      "Character 클래스의 객체 생성 => 검술사\n",
      "Character 클래스의 객체 생성 => 요정\n",
      "Character 클래스의 객체 생성 => 도적\n",
      "검술사 이/가 요정 ( 60 ) 을/를 공격합니다.\n",
      "공격 성공! 요정 ( 50 )\n"
     ]
    }
   ],
   "source": [
    "swordsman = Character('검술사', 100, 10)\n",
    "fairy = Character('요정', 60, 5)\n",
    "theif = Character('도적', 85, 8)\n",
    "\n",
    "swordsman.attack(fairy)"
   ]
  },
  {
   "cell_type": "code",
   "execution_count": 77,
   "metadata": {},
   "outputs": [
    {
     "name": "stdout",
     "output_type": "stream",
     "text": [
      "Character 클래스의 객체 생성 => 검술사\n",
      "현재 캐릭터 개수= 0\n",
      "Character 클래스의 객체 생성 => 요정\n",
      "현재 캐릭터 개수= 0\n",
      "Character 클래스의 객체 생성 => 도적\n",
      "현재 캐릭터 개수= 0\n"
     ]
    }
   ],
   "source": [
    "class Character:\n",
    "    total_character_cnt = 0\n",
    "\n",
    "    def __init__(self, name, hp, ad):\n",
    "        self.name = name\n",
    "        self.strength = hp\n",
    "        self.attack_damage = ad\n",
    "        print('Character 클래스의 객체 생성 =>', self.name)\n",
    "        #객체 생성 시 클래스 속성 1씩 증가시키기\n",
    "        print('현재 캐릭터 개수=', Character.total_character_cnt)\n",
    "    def information(self):\n",
    "        print('이름 =>', self.name, ', 체력 =>', self.strength, ', 공격력 =>', self.attack_damage)\n",
    "    def attack(self, target):\n",
    "        print(self.name, '이/가', target.name, '(', target.strength ,') 을/를 공격합니다.')\n",
    "        #공격받은 대상의 체력을 공격력만큼 감소시키기\n",
    "        target.strength -= self.attack_damage\n",
    "        print('공격 성공!', target.name, '(', target.strength, ')')\n",
    "    def level_up(self):\n",
    "        self.strength *= 1.2\n",
    "        self.attack_damage += 5\n",
    "\n",
    "#검술사, 요청, 도적 객체 생성\n",
    "swordsman = Character('검술사', 100, 10)\n",
    "fairy = Character('요정', 60, 5)\n",
    "theif = Character('도적', 85, 8)"
   ]
  },
  {
   "cell_type": "code",
   "execution_count": 79,
   "metadata": {},
   "outputs": [],
   "source": [
    "class Product:\n",
    "    def __init__(self, n, p, s):\n",
    "        self.name, self.price, self.stock = n, p, s\n",
    "\n",
    "    def information(self):\n",
    "        print('상품이름:', self.name)\n",
    "        print('상품가격:', self.price)\n",
    "        print('재고수량:', self.stock)"
   ]
  },
  {
   "cell_type": "code",
   "execution_count": 97,
   "metadata": {},
   "outputs": [],
   "source": [
    "class Member:\n",
    "    def __init__(self, n, j):\n",
    "        self.name = n\n",
    "        self.join_date = j\n",
    "        self.purchase_list = []\n",
    "        self.purchase_amount = 0\n",
    "        \n",
    "    def information(self):\n",
    "        print('회원이름:', self.name)\n",
    "        print('가입날짜:', self.join_date)\n",
    "        print('구매내역:', self.purchase_list)\n",
    "        print('누적 구매금액:', self.purchase_amount)\n",
    "\n",
    "    #Product 객체가 인자로 전달됨\n",
    "    def buy(self, product, count):\n",
    "        print(self.name, '고객님이', product.name, count, '개 구매!')\n",
    "        product.stock -= count #구매수량만큼 재고 감소\n",
    "        self.purchase_list.append(product.name) #구매내역에 상품 추가\n",
    "        self.purchase_amount += (product.price * count) #누적 구매금액 증가ㄱ"
   ]
  },
  {
   "cell_type": "code",
   "execution_count": 113,
   "metadata": {},
   "outputs": [
    {
     "name": "stdout",
     "output_type": "stream",
     "text": [
      "Anna 고객님이 socks 1 개 구매!\n"
     ]
    }
   ],
   "source": [
    "#물건 등록\n",
    "socks = Product('socks', 1000, 10)\n",
    "books = Product('books', 17500, 15)\n",
    "\n",
    "#회원가입\n",
    "Anna = Member('Anna', '20200420')\n",
    "Grace = Member('Grace', '20200130')\n",
    "\n",
    "Anna.buy(socks, 1)"
   ]
  },
  {
   "cell_type": "code",
   "execution_count": 115,
   "metadata": {},
   "outputs": [
    {
     "name": "stdout",
     "output_type": "stream",
     "text": [
      "회원이름: Anna\n",
      "가입날짜: 20200420\n",
      "구매내역: ['socks']\n",
      "누적 구매금액: 1000\n"
     ]
    }
   ],
   "source": [
    "Anna.information()"
   ]
  },
  {
   "cell_type": "code",
   "execution_count": 117,
   "metadata": {},
   "outputs": [
    {
     "name": "stdout",
     "output_type": "stream",
     "text": [
      "상품이름: socks\n",
      "상품가격: 1000\n",
      "재고수량: 9\n"
     ]
    }
   ],
   "source": [
    "socks.information()"
   ]
  },
  {
   "cell_type": "code",
   "execution_count": 119,
   "metadata": {},
   "outputs": [
    {
     "name": "stdout",
     "output_type": "stream",
     "text": [
      "Grace 고객님이 books 2 개 구매!\n",
      "상품이름: books\n",
      "상품가격: 17500\n",
      "재고수량: 13\n"
     ]
    }
   ],
   "source": [
    "Grace.buy(books, 2)\n",
    "books.information()"
   ]
  },
  {
   "cell_type": "code",
   "execution_count": 121,
   "metadata": {},
   "outputs": [
    {
     "name": "stdout",
     "output_type": "stream",
     "text": [
      "회원이름: Grace\n",
      "가입날짜: 20200130\n",
      "구매내역: ['books']\n",
      "누적 구매금액: 35000\n"
     ]
    }
   ],
   "source": [
    "Grace.information()"
   ]
  },
  {
   "cell_type": "code",
   "execution_count": 123,
   "metadata": {},
   "outputs": [],
   "source": [
    "pen = Product('pen', 1200, 15)"
   ]
  },
  {
   "cell_type": "code",
   "execution_count": 127,
   "metadata": {},
   "outputs": [
    {
     "name": "stdout",
     "output_type": "stream",
     "text": [
      "Anna 고객님이 pen 5 개 구매!\n"
     ]
    }
   ],
   "source": [
    "Anna.buy(pen, 5)"
   ]
  },
  {
   "cell_type": "code",
   "execution_count": 129,
   "metadata": {},
   "outputs": [
    {
     "name": "stdout",
     "output_type": "stream",
     "text": [
      "상품이름: pen\n",
      "상품가격: 1200\n",
      "재고수량: 10\n"
     ]
    }
   ],
   "source": [
    "pen.information()"
   ]
  },
  {
   "cell_type": "code",
   "execution_count": 131,
   "metadata": {},
   "outputs": [
    {
     "name": "stdout",
     "output_type": "stream",
     "text": [
      "회원이름: Anna\n",
      "가입날짜: 20200420\n",
      "구매내역: ['socks', 'pen']\n",
      "누적 구매금액: 7000\n"
     ]
    }
   ],
   "source": [
    "Anna.information()\n"
   ]
  },
  {
   "cell_type": "code",
   "execution_count": 217,
   "metadata": {},
   "outputs": [
    {
     "name": "stdout",
     "output_type": "stream",
     "text": [
      "라이언 고객님! 계좌를 개설했습니다. 잔고는 50000 원\n",
      "프로도 고객님! 계좌를 개설했습니다. 잔고는 100000 원\n",
      "라이언 고객님 15000 원 출금\n",
      "출금 후 잔고는 35500 원\n",
      "프로도 고객님 20000 원 입금\n",
      "프로도 고객님이 라이언 고객님께 25000 원 송금\n",
      "이체 후 잔고는 프로도 95300 라이언 60500\n",
      "수수료는: 1800\n"
     ]
    }
   ],
   "source": [
    "#계좌 클래스\n",
    "class Customer_account:\n",
    "    def __init__(self, name, bal):\n",
    "        self.name = name\n",
    "        self.balance = bal #통장잔고\n",
    "        print(self.name, '고객님! 계좌를 개설했습니다. 잔고는', self.balance, '원')\n",
    "\n",
    "\n",
    "#은행 클래스\n",
    "class Back:\n",
    "    def __init__(self):\n",
    "        self.commission = 0\n",
    "    #입금 거래, customer에 customer_accont 객체 전달\n",
    "    def posit(self, customer, amount):\n",
    "        self.commission += 500\n",
    "        customer.balance += (amount - 500)\n",
    "        print(customer.name, '고객님', amount, '원 입금')\n",
    "\n",
    "    #출금 거래,\n",
    "    def withdrawal(self, customer, amount):\n",
    "        self.commission += 500\n",
    "        customer.balance -= (amount - 500)\n",
    "        print(customer.name, '고객님', amount, '원 출금')\n",
    "        print('출금 후 잔고는', customer.balance, '원')\n",
    "\n",
    "    #계좌이채 거래, sender와 reciever에 customer_accont 객체 전달\n",
    "    def send_money(self, sender, reciever, amount):\n",
    "        self.commission += 800\n",
    "        sender.balance -= (amount - 800)\n",
    "        reciever.balance += amount\n",
    "        print(sender.name, '고객님이', reciever.name, '고객님께', amount, '원 송금')\n",
    "        print('이체 후 잔고는', sender.name, sender.balance, reciever.name, reciever.balance)\n",
    "\n",
    "\n",
    "ryan = Customer_account('라이언', 50000)\n",
    "prodo = Customer_account('프로도', 100000)\n",
    "\n",
    "back_a = Back()\n",
    "\n",
    "back_a.withdrawal(ryan, 15000)\n",
    "back_a.posit(prodo, 20000)\n",
    "back_a.send_money(prodo, ryan, 25000)\n",
    "\n",
    "print('수수료는:', back_a.commission)"
   ]
  },
  {
   "cell_type": "code",
   "execution_count": null,
   "metadata": {},
   "outputs": [],
   "source": []
  }
 ],
 "metadata": {
  "kernelspec": {
   "display_name": "Python [conda env:base] *",
   "language": "python",
   "name": "conda-base-py"
  },
  "language_info": {
   "codemirror_mode": {
    "name": "ipython",
    "version": 3
   },
   "file_extension": ".py",
   "mimetype": "text/x-python",
   "name": "python",
   "nbconvert_exporter": "python",
   "pygments_lexer": "ipython3",
   "version": "3.12.7"
  }
 },
 "nbformat": 4,
 "nbformat_minor": 4
}
