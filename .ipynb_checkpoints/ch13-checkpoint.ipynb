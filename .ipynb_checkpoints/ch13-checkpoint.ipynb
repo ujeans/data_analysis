{
 "cells": [
  {
   "cell_type": "code",
   "execution_count": 3,
   "id": "53aedd02-f2fd-4243-9169-9cf30514e8e8",
   "metadata": {},
   "outputs": [
    {
     "name": "stdout",
     "output_type": "stream",
     "text": [
      "hi\n",
      "my name is python\n"
     ]
    }
   ],
   "source": [
    "def hi():\n",
    "    print('hi')\n",
    "    print('my name is python')\n",
    "\n",
    "hi()"
   ]
  },
  {
   "cell_type": "code",
   "execution_count": 15,
   "id": "b52806e8-f51c-428b-963d-f0639643d4b5",
   "metadata": {},
   "outputs": [
    {
     "name": "stdout",
     "output_type": "stream",
     "text": [
      "h1\n",
      "My name is dragi !\n"
     ]
    }
   ],
   "source": [
    "def hi(name):\n",
    "    print('h1')\n",
    "    print('My name is', name, '!')\n",
    "\n",
    "hi(name='dragi')"
   ]
  },
  {
   "cell_type": "code",
   "execution_count": 17,
   "id": "79cb262d-207f-4d75-8d60-d451cffdfe15",
   "metadata": {},
   "outputs": [
    {
     "name": "stdout",
     "output_type": "stream",
     "text": [
      "hi\n",
      "my name is 고리니 and my job is programmer !\n"
     ]
    }
   ],
   "source": [
    "def hi_2(name, job):\n",
    "    print('hi')\n",
    "    print('my name is', name, 'and my job is', job, '!')\n",
    "hi_2(name='고리니', job='programmer')"
   ]
  },
  {
   "cell_type": "code",
   "execution_count": 21,
   "id": "0f41c1a9-9fed-4850-a613-b70e94dfeeca",
   "metadata": {},
   "outputs": [
    {
     "name": "stdout",
     "output_type": "stream",
     "text": [
      "hi\n",
      "my name is 고리니 and my job is programmer !\n"
     ]
    }
   ],
   "source": [
    "def hi_2(name, job):\n",
    "    print('hi')\n",
    "    print('my name is', name, 'and my job is', job, '!')\n",
    "hi_2('고리니', 'programmer')"
   ]
  },
  {
   "cell_type": "code",
   "execution_count": 23,
   "id": "1bea4077-89e8-44b9-8888-ee07ef8f10e3",
   "metadata": {},
   "outputs": [
    {
     "name": "stdout",
     "output_type": "stream",
     "text": [
      "hi\n",
      "my name is A !\n",
      "hi\n",
      "my name is b !\n",
      "hi\n",
      "my name is c !\n"
     ]
    }
   ],
   "source": [
    "def hi(name='A'):\n",
    "    print('hi')\n",
    "    print('my name is', name, '!')\n",
    "\n",
    "hi()\n",
    "hi('b')\n",
    "hi('c')"
   ]
  },
  {
   "cell_type": "code",
   "execution_count": 25,
   "id": "52c0685d-fa01-4ac4-9350-ec69667de111",
   "metadata": {},
   "outputs": [
    {
     "name": "stdout",
     "output_type": "stream",
     "text": [
      "hi\n",
      "my name is None !\n"
     ]
    }
   ],
   "source": [
    "def hi(name=None):\n",
    "    print('hi')\n",
    "    print('my name is', name, '!')\n",
    "\n",
    "hi()"
   ]
  },
  {
   "cell_type": "code",
   "execution_count": 31,
   "id": "53c71cde-66c2-429f-a2b4-92bac6ff034c",
   "metadata": {},
   "outputs": [
    {
     "name": "stdout",
     "output_type": "stream",
     "text": [
      "1335\n"
     ]
    }
   ],
   "source": [
    "def plus(num1, num2):\n",
    "    result = num1 + num2\n",
    "    print(result)\n",
    "plus(486, 849)"
   ]
  },
  {
   "cell_type": "code",
   "execution_count": 37,
   "id": "a4c8b621-669a-4e7b-bda5-23df0ac16354",
   "metadata": {},
   "outputs": [
    {
     "data": {
      "text/plain": [
       "1335"
      ]
     },
     "execution_count": 37,
     "metadata": {},
     "output_type": "execute_result"
    }
   ],
   "source": [
    "def plus(num1, num2):\n",
    "    result = num1 + num2\n",
    "    return result\n",
    "plus(486, 849)"
   ]
  },
  {
   "cell_type": "code",
   "execution_count": 45,
   "id": "2e04d169-bdfa-4c5c-a29f-0992f4f3116e",
   "metadata": {},
   "outputs": [
    {
     "name": "stdin",
     "output_type": "stream",
     "text": [
      "첫 번째 숫자: 5\n",
      "두 번째 숫자: 6\n"
     ]
    },
    {
     "name": "stdout",
     "output_type": "stream",
     "text": [
      "두 수의 합 11\n"
     ]
    }
   ],
   "source": [
    "def plus(num1, num2):\n",
    "    result = num1 + num2\n",
    "    return result\n",
    "    \n",
    "a, b = int(input('첫 번째 숫자:')), int(input('두 번째 숫자:'))\n",
    "sum_ab = plus(a, b)\n",
    "print('두 수의 합', sum_ab)"
   ]
  },
  {
   "cell_type": "code",
   "execution_count": 63,
   "id": "52f2eacb-0199-4c4d-b1c2-14e9109efe86",
   "metadata": {},
   "outputs": [
    {
     "name": "stdout",
     "output_type": "stream",
     "text": [
      "탈락입니다. 64.2\n"
     ]
    }
   ],
   "source": [
    "def score(kor, eng, mat):\n",
    "    score = kor * 0.3 + eng * 0.3 + mat * 0.4\n",
    "    return score\n",
    "\n",
    "student = score(44, 50, 90)\n",
    "\n",
    "if student > 80:\n",
    "    print('합격입니다.', student)\n",
    "else:\n",
    "    print('탈락입니다.', student)"
   ]
  },
  {
   "cell_type": "code",
   "execution_count": 4,
   "id": "ec78fe4a-e6a1-4031-805f-09e3951d7856",
   "metadata": {},
   "outputs": [
    {
     "name": "stdout",
     "output_type": "stream",
     "text": [
      "환산점수 64.2 합격여부 no\n"
     ]
    }
   ],
   "source": [
    "def score(kor, eng, mat):\n",
    "    score = kor * 0.3 + eng * 0.3 + mat * 0.4\n",
    "    if score > 80:\n",
    "        pass_yn = 'yes'\n",
    "    else:\n",
    "        pass_yn = 'no'\n",
    "    return score, pass_yn\n",
    "\n",
    "student1, pass1 = score(44, 50, 90)\n",
    "print('환산점수', student1, '합격여부', pass1)"
   ]
  },
  {
   "cell_type": "code",
   "execution_count": 6,
   "id": "59bc01aa-aa59-455b-8850-cde942615085",
   "metadata": {},
   "outputs": [
    {
     "name": "stdout",
     "output_type": "stream",
     "text": [
      "자기소개를 시작합니다.\n"
     ]
    },
    {
     "name": "stdin",
     "output_type": "stream",
     "text": [
      "이름은? 홍유진\n"
     ]
    },
    {
     "name": "stdout",
     "output_type": "stream",
     "text": [
      "hi!\n",
      "my name is 홍유진 !\n"
     ]
    },
    {
     "ename": "NameError",
     "evalue": "name 'name' is not defined",
     "output_type": "error",
     "traceback": [
      "\u001b[0;31m---------------------------------------------------------------------------\u001b[0m",
      "\u001b[0;31mNameError\u001b[0m                                 Traceback (most recent call last)",
      "Cell \u001b[0;32mIn[6], line 8\u001b[0m\n\u001b[1;32m      6\u001b[0m \u001b[38;5;28mprint\u001b[39m(\u001b[38;5;124m'\u001b[39m\u001b[38;5;124m자기소개를 시작합니다.\u001b[39m\u001b[38;5;124m'\u001b[39m)\n\u001b[1;32m      7\u001b[0m hi()\n\u001b[0;32m----> 8\u001b[0m \u001b[38;5;28mprint\u001b[39m(name, \u001b[38;5;124m'\u001b[39m\u001b[38;5;124m님 안녕하세요\u001b[39m\u001b[38;5;124m'\u001b[39m)\n",
      "\u001b[0;31mNameError\u001b[0m: name 'name' is not defined"
     ]
    }
   ],
   "source": [
    "def hi():\n",
    "    name = input('이름은?')\n",
    "    print('hi!')\n",
    "    print('my name is', name, '!')\n",
    "\n",
    "print('자기소개를 시작합니다.')\n",
    "hi()\n",
    "print(name, '님 안녕하세요')"
   ]
  },
  {
   "cell_type": "code",
   "execution_count": 8,
   "id": "5296bd2f-2d15-4185-a5bc-d548d838fcb6",
   "metadata": {},
   "outputs": [
    {
     "name": "stdout",
     "output_type": "stream",
     "text": [
      "자기소개를 시작합니다.\n"
     ]
    },
    {
     "name": "stdin",
     "output_type": "stream",
     "text": [
      "이름은 홍유진\n"
     ]
    },
    {
     "name": "stdout",
     "output_type": "stream",
     "text": [
      "hi\n",
      "my name is 홍유진 !\n",
      "홍유진 님 안녕하세요\n"
     ]
    }
   ],
   "source": [
    "def hi():\n",
    "    name = input('이름은')\n",
    "    print('hi')\n",
    "    print('my name is', name, '!')\n",
    "    return name\n",
    "\n",
    "print('자기소개를 시작합니다.')\n",
    "person = hi()\n",
    "print(person, '님 안녕하세요')"
   ]
  },
  {
   "cell_type": "code",
   "execution_count": 18,
   "id": "ca848878-0030-458f-aeb9-a3316c5cf8ee",
   "metadata": {},
   "outputs": [
    {
     "ename": "UnboundLocalError",
     "evalue": "cannot access local variable 'a' where it is not associated with a value",
     "output_type": "error",
     "traceback": [
      "\u001b[0;31m---------------------------------------------------------------------------\u001b[0m",
      "\u001b[0;31mUnboundLocalError\u001b[0m                         Traceback (most recent call last)",
      "Cell \u001b[0;32mIn[18], line 7\u001b[0m\n\u001b[1;32m      4\u001b[0m     \u001b[38;5;28mprint\u001b[39m(a, b)\n\u001b[1;32m      6\u001b[0m a, b \u001b[38;5;241m=\u001b[39m \u001b[38;5;241m5\u001b[39m, \u001b[38;5;241m10\u001b[39m\n\u001b[0;32m----> 7\u001b[0m func1()\n",
      "Cell \u001b[0;32mIn[18], line 2\u001b[0m, in \u001b[0;36mfunc1\u001b[0;34m()\u001b[0m\n\u001b[1;32m      1\u001b[0m \u001b[38;5;28;01mdef\u001b[39;00m \u001b[38;5;21mfunc1\u001b[39m():\n\u001b[0;32m----> 2\u001b[0m     a \u001b[38;5;241m+\u001b[39m\u001b[38;5;241m=\u001b[39m \u001b[38;5;241m2\u001b[39m\n\u001b[1;32m      3\u001b[0m     b \u001b[38;5;241m*\u001b[39m\u001b[38;5;241m=\u001b[39m \u001b[38;5;241m2\u001b[39m\n\u001b[1;32m      4\u001b[0m     \u001b[38;5;28mprint\u001b[39m(a, b)\n",
      "\u001b[0;31mUnboundLocalError\u001b[0m: cannot access local variable 'a' where it is not associated with a value"
     ]
    }
   ],
   "source": [
    "def func1():\n",
    "    a += 2\n",
    "    b *= 2\n",
    "    print(a, b)\n",
    "\n",
    "a, b = 5, 10\n",
    "func1()"
   ]
  },
  {
   "cell_type": "code",
   "execution_count": 22,
   "id": "94495a6e-a049-4dfc-9835-5b9cbb84adf6",
   "metadata": {},
   "outputs": [
    {
     "name": "stdout",
     "output_type": "stream",
     "text": [
      "7 20\n",
      "9 40\n",
      "11 80\n",
      "13 160\n",
      "15 320\n"
     ]
    }
   ],
   "source": [
    "def func1():\n",
    "    #지역변수를 전역에서 수정할 수 있게 해주는 명령어\n",
    "    global a, b\n",
    "    a += 2\n",
    "    b *= 2\n",
    "    print(a, b)\n",
    "\n",
    "a, b = 5, 10\n",
    "for i in range(5):\n",
    "    func1()"
   ]
  },
  {
   "cell_type": "code",
   "execution_count": 26,
   "id": "bbde5e30-0e57-4832-8f63-d96825e93f61",
   "metadata": {},
   "outputs": [
    {
     "name": "stdout",
     "output_type": "stream",
     "text": [
      "현재 점수:  5\n",
      "최종 점수: 10\n"
     ]
    }
   ],
   "source": [
    "def reward_penalty(kind, points):\n",
    "    global current_point\n",
    "    print('현재 점수: ', current_point)\n",
    "    if kind == '상점':\n",
    "        current_point += points\n",
    "    elif kind =='별점':\n",
    "        current_point -= points\n",
    "    return current_point\n",
    "\n",
    "current_point = 5\n",
    "reward_penalty('상점', 5)\n",
    "print('최종 점수:', current_point)"
   ]
  },
  {
   "cell_type": "code",
   "execution_count": 28,
   "id": "44300f16-fa4c-442a-a4ac-797a5f8eac11",
   "metadata": {},
   "outputs": [
    {
     "name": "stdout",
     "output_type": "stream",
     "text": [
      "현재 점수:  5\n",
      "상점 입력 후 점수: 10\n",
      "최종 점수: 10\n"
     ]
    }
   ],
   "source": [
    "def reward_penalty(kind, points):\n",
    "    global current_point\n",
    "    print('현재 점수: ', current_point)\n",
    "    if kind == '상점':\n",
    "        current_point += points\n",
    "        print('상점 입력 후 점수:', current_point)\n",
    "    elif kind =='별점':\n",
    "        current_point -= points\n",
    "        print('별점 입력 후 점수:', current_point)\n",
    "    return current_point\n",
    "\n",
    "current_point = 5\n",
    "reward_penalty('상점', 5)\n",
    "print('최종 점수:', current_point)"
   ]
  },
  {
   "cell_type": "code",
   "execution_count": null,
   "id": "5e91c25e-7332-46a7-ba6d-ae3a685ac6ad",
   "metadata": {},
   "outputs": [],
   "source": []
  }
 ],
 "metadata": {
  "kernelspec": {
   "display_name": "Python [conda env:base] *",
   "language": "python",
   "name": "conda-base-py"
  },
  "language_info": {
   "codemirror_mode": {
    "name": "ipython",
    "version": 3
   },
   "file_extension": ".py",
   "mimetype": "text/x-python",
   "name": "python",
   "nbconvert_exporter": "python",
   "pygments_lexer": "ipython3",
   "version": "3.12.7"
  }
 },
 "nbformat": 4,
 "nbformat_minor": 5
}
