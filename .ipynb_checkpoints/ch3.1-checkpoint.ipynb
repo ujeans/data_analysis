{
 "cells": [
  {
   "cell_type": "code",
   "execution_count": 2,
   "id": "5e107aa0-5d89-41ff-9d86-d7be186cd2c9",
   "metadata": {},
   "outputs": [],
   "source": [
    "b='학생'"
   ]
  },
  {
   "cell_type": "code",
   "execution_count": 4,
   "id": "5be638a4-a7a0-4bed-b756-018ac86569d0",
   "metadata": {},
   "outputs": [],
   "source": [
    "c='고등'"
   ]
  },
  {
   "cell_type": "code",
   "execution_count": 6,
   "id": "c28eff1d-d9f1-4be3-b859-43064bf382e9",
   "metadata": {},
   "outputs": [
    {
     "name": "stdout",
     "output_type": "stream",
     "text": [
      "고등학생\n"
     ]
    }
   ],
   "source": [
    "print(c+b)"
   ]
  },
  {
   "cell_type": "code",
   "execution_count": 8,
   "id": "203d7aab-0da9-4636-804f-ec8ab03ff049",
   "metadata": {},
   "outputs": [],
   "source": [
    "c='대'"
   ]
  },
  {
   "cell_type": "code",
   "execution_count": 10,
   "id": "c20fcaf7-0ba0-48fc-90e3-f006448453a8",
   "metadata": {},
   "outputs": [
    {
     "name": "stdout",
     "output_type": "stream",
     "text": [
      "대학생\n"
     ]
    }
   ],
   "source": [
    "print(c+b)"
   ]
  },
  {
   "cell_type": "code",
   "execution_count": 12,
   "id": "87cc2b76-1a79-44d9-8c11-0f8f28aa75f8",
   "metadata": {},
   "outputs": [
    {
     "name": "stdout",
     "output_type": "stream",
     "text": [
      "유리 175.5 21 programming\n"
     ]
    }
   ],
   "source": [
    "name = '유리'\n",
    "height = 175.5\n",
    "age = 21\n",
    "hobby = 'programming'\n",
    "print(name, height, age, hobby)"
   ]
  },
  {
   "cell_type": "code",
   "execution_count": 28,
   "id": "bc04f015-563e-4400-9248-1051112ea60d",
   "metadata": {},
   "outputs": [
    {
     "name": "stdout",
     "output_type": "stream",
     "text": [
      "유리 키는 175.5, 나이는 21, 취미는 programming입니다!\n"
     ]
    }
   ],
   "source": [
    "print(f'{name} 키는 {height}, 나이는 {age}, 취미는 {hobby}입니다!')"
   ]
  },
  {
   "cell_type": "code",
   "execution_count": 36,
   "id": "e207e033-c1fd-47dc-b52d-0a54df68ec63",
   "metadata": {},
   "outputs": [
    {
     "name": "stdout",
     "output_type": "stream",
     "text": [
      "제임스 키는 186 , 나이는 24 , 취미는 요리하기 입니다!\n"
     ]
    }
   ],
   "source": [
    "name = '제임스'\n",
    "height = 186\n",
    "age = 24\n",
    "hobby = '요리하기'\n",
    "print(name, '키는', height, ', 나이는', age, ', 취미는', hobby, '입니다!')"
   ]
  },
  {
   "cell_type": "code",
   "execution_count": 46,
   "id": "f9584efd-386b-4b48-9e91-83d06acadef2",
   "metadata": {},
   "outputs": [
    {
     "name": "stdout",
     "output_type": "stream",
     "text": [
      "원의 넓이는 78.5398\n",
      "원의 둘레는 31.41592\n",
      "구의 겉넓이는 314.1592\n"
     ]
    }
   ],
   "source": [
    "\"\"\"\n",
    "원의 넓이를 구하는 프로그램입니다.\n",
    "변수 p는 원주율을 저장하는 변수이고,\n",
    "변수 r은 반지름을 저장한 변수입니다.\n",
    "\"\"\"\n",
    "p = 3.141592\n",
    "r = 5\n",
    "\n",
    "# 원의 넓이\n",
    "circleArea = p * r ** 2\n",
    "print('원의 넓이는', circleArea)\n",
    "\n",
    "# 원의 둘레\n",
    "circleCircumference = 2 * p * r\n",
    "print('원의 둘레는', circleCircumference)\n",
    "\n",
    "# 구의 겉넓이\n",
    "sphereSurfaceArea = 4 * p * r ** 2\n",
    "print('구의 겉넓이는', sphereSurfaceArea)"
   ]
  },
  {
   "cell_type": "code",
   "execution_count": 48,
   "id": "d3b3555e-865a-431a-9d4f-a34fd3db4020",
   "metadata": {},
   "outputs": [
    {
     "name": "stdin",
     "output_type": "stream",
     "text": [
      "반지름은?  999\n"
     ]
    },
    {
     "ename": "TypeError",
     "evalue": "unsupported operand type(s) for ** or pow(): 'str' and 'int'",
     "output_type": "error",
     "traceback": [
      "\u001b[0;31m---------------------------------------------------------------------------\u001b[0m",
      "\u001b[0;31mTypeError\u001b[0m                                 Traceback (most recent call last)",
      "Cell \u001b[0;32mIn[48], line 5\u001b[0m\n\u001b[1;32m      2\u001b[0m r \u001b[38;5;241m=\u001b[39m \u001b[38;5;28minput\u001b[39m(\u001b[38;5;124m'\u001b[39m\u001b[38;5;124m반지름은? \u001b[39m\u001b[38;5;124m'\u001b[39m)\n\u001b[1;32m      4\u001b[0m \u001b[38;5;66;03m#원의 넓이\u001b[39;00m\n\u001b[0;32m----> 5\u001b[0m circleArea \u001b[38;5;241m=\u001b[39m p \u001b[38;5;241m*\u001b[39m r \u001b[38;5;241m*\u001b[39m\u001b[38;5;241m*\u001b[39m \u001b[38;5;241m2\u001b[39m\n\u001b[1;32m      6\u001b[0m circleCircumference \u001b[38;5;241m=\u001b[39m \u001b[38;5;241m2\u001b[39m \u001b[38;5;241m*\u001b[39m p \u001b[38;5;241m*\u001b[39m r\n\u001b[1;32m      7\u001b[0m sphereSurfaceArea \u001b[38;5;241m=\u001b[39m \u001b[38;5;241m4\u001b[39m \u001b[38;5;241m*\u001b[39m p \u001b[38;5;241m*\u001b[39m r \u001b[38;5;241m*\u001b[39m\u001b[38;5;241m*\u001b[39m \u001b[38;5;241m2\u001b[39m\n",
      "\u001b[0;31mTypeError\u001b[0m: unsupported operand type(s) for ** or pow(): 'str' and 'int'"
     ]
    }
   ],
   "source": [
    "p = 3.141592\n",
    "r = input('반지름은? ')\n",
    "\n",
    "#원의 넓이\n",
    "circleArea = p * r ** 2\n",
    "circleCircumference = 2 * p * r\n",
    "sphereSurfaceArea = 4 * p * r ** 2\n",
    "\n",
    "print('원의 넓이 =', circleArea, '원의 둘레 =', circleCircumference, '구의 겉넓이 =', sphereSurfaceArea)"
   ]
  },
  {
   "cell_type": "code",
   "execution_count": 50,
   "id": "0774c7fb-f207-4397-9665-d274a77161b3",
   "metadata": {},
   "outputs": [
    {
     "name": "stdin",
     "output_type": "stream",
     "text": [
      "반지름은?  999\n"
     ]
    },
    {
     "name": "stdout",
     "output_type": "stream",
     "text": [
      "원의 넓이 = 3135311.9575920003 원의 둘레 = 6276.900816 구의 겉넓이 = 12541247.830368001\n"
     ]
    }
   ],
   "source": [
    "p = 3.141592\n",
    "r = float(input('반지름은? '))\n",
    "\n",
    "#원의 넓이\n",
    "circleArea = p * r ** 2\n",
    "c_len = 2 * p * r\n",
    "sphereSurfaceArea = 4 * p * r ** 2\n",
    "\n",
    "print('원의 넓이 =', circleArea, '원의 둘레 =', c_len, '구의 겉넓이 =', sphereSurfaceArea)"
   ]
  },
  {
   "cell_type": "code",
   "execution_count": 66,
   "id": "14ad69a0-7e72-4b87-9369-f047283e2137",
   "metadata": {},
   "outputs": [
    {
     "name": "stdin",
     "output_type": "stream",
     "text": [
      " 고라니\n",
      " 4\n",
      " 애교가 많은 편\n"
     ]
    },
    {
     "name": "stdout",
     "output_type": "stream",
     "text": [
      "고라니 ( 4 ) 애교가 많은 편\n",
      "애교가 많은 편 인 고라니\n"
     ]
    }
   ],
   "source": [
    "name = input('')\n",
    "age = input('')\n",
    "characteristic = input('')\n",
    "\n",
    "print(name,'(',age,')', characteristic)\n",
    "print(characteristic,'인', name)"
   ]
  },
  {
   "cell_type": "code",
   "execution_count": 70,
   "id": "57a6f5c4-75d1-4af0-a529-f7e9ab217a87",
   "metadata": {},
   "outputs": [
    {
     "name": "stdin",
     "output_type": "stream",
     "text": [
      " 고라니\n",
      " 4\n",
      " 애교가 많은 편\n"
     ]
    },
    {
     "name": "stdout",
     "output_type": "stream",
     "text": [
      "고라니(4) 애교가 많은 편\n",
      "애교가 많은 편인 고라니\n"
     ]
    }
   ],
   "source": [
    "name = input('')\n",
    "age = input('')\n",
    "characteristic = input('')\n",
    "\n",
    "print(f\"{name}({age}) {characteristic}\")\n",
    "print(f\"{characteristic}인 {name}\")"
   ]
  },
  {
   "cell_type": "code",
   "execution_count": 88,
   "id": "fa1aac18-64eb-4105-be3a-bf443fb4aabc",
   "metadata": {},
   "outputs": [
    {
     "name": "stdout",
     "output_type": "stream",
     "text": [
      "2017 년 - 175.5\n",
      "2018 년 - 185.5 cm\n",
      "2019 년 - 195.5 cm\n",
      "2020 년 - 205.5 cm\n"
     ]
    }
   ],
   "source": [
    "year = 2017\n",
    "height = 175.5\n",
    "\n",
    "print(year, '년 -', height)\n",
    "\n",
    "year = year + 1\n",
    "height = height + 10\n",
    "print(year, '년 -', height,'cm')\n",
    "\n",
    "year = year + 1\n",
    "height = height + 10\n",
    "print(year, '년 -', height,'cm')\n",
    "\n",
    "year = year + 1\n",
    "height = height + 10\n",
    "print(year, '년 -', height,'cm')"
   ]
  },
  {
   "cell_type": "code",
   "execution_count": 119,
   "id": "ca463b2d-c9fb-4bcd-9186-b9b61b4f5ba3",
   "metadata": {},
   "outputs": [
    {
     "name": "stdout",
     "output_type": "stream",
     "text": [
      "2017 년 - 175.5 cm\n",
      "2018 년 - 185.5 cm\n",
      "2019 년 - 195.5 cm\n",
      "2020 년 - 205.5 cm\n"
     ]
    }
   ],
   "source": [
    "year = 2017\n",
    "height = 175.5\n",
    "\n",
    "for i in range(4):\n",
    "    print(year, '년 -', height, 'cm')\n",
    "    year += 1\n",
    "    height += 10"
   ]
  },
  {
   "cell_type": "code",
   "execution_count": null,
   "id": "541cc582-b9d2-4a17-85c5-ac39c568586c",
   "metadata": {},
   "outputs": [],
   "source": []
  }
 ],
 "metadata": {
  "kernelspec": {
   "display_name": "Python [conda env:base] *",
   "language": "python",
   "name": "conda-base-py"
  },
  "language_info": {
   "codemirror_mode": {
    "name": "ipython",
    "version": 3
   },
   "file_extension": ".py",
   "mimetype": "text/x-python",
   "name": "python",
   "nbconvert_exporter": "python",
   "pygments_lexer": "ipython3",
   "version": "3.12.7"
  }
 },
 "nbformat": 4,
 "nbformat_minor": 5
}
