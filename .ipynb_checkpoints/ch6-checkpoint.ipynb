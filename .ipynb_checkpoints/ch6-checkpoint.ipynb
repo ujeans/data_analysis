{
 "cells": [
  {
   "cell_type": "code",
   "execution_count": 7,
   "id": "661f9d2f-abb6-4e10-bdf7-82be9fd675d1",
   "metadata": {},
   "outputs": [
    {
     "name": "stdout",
     "output_type": "stream",
     "text": [
      "<class 'list'>\n"
     ]
    }
   ],
   "source": [
    "abc = [1, 2, 3, 4, 5]\n",
    "print(type(abc), abc)"
   ]
  },
  {
   "cell_type": "code",
   "execution_count": 21,
   "id": "9d5a50dc-133c-4b37-b70f-fa499691b580",
   "metadata": {},
   "outputs": [
    {
     "name": "stdout",
     "output_type": "stream",
     "text": [
      "<class 'list'> [25, 36, 8, 53, 24, 56, 79, 94, 20, 40, 25] 11\n",
      "<class 'list'> [25, 36, 8, 53, 24, 56] 6\n"
     ]
    }
   ],
   "source": [
    "spending_year = [25, 36, 8,53, 24, 56, 79, 94, 20, 40, 25]\n",
    "print(type(spending_year), spending_year, len(spending_year))\n",
    "\n",
    "spending_6mon = [25, 36, 8, 53, 24, 56]\n",
    "print(type(spending_6mon), spending_6mon, len(spending_6mon))"
   ]
  },
  {
   "cell_type": "code",
   "execution_count": 29,
   "id": "e5617dc6-3b67-4288-bfbc-396abf826958",
   "metadata": {},
   "outputs": [
    {
     "name": "stdout",
     "output_type": "stream",
     "text": [
      "['피자', '치킨', '떡볶이', '스테이크', '딸기', '파스타']\n",
      "좋아하는 음식 개수: 6\n",
      "좋아하는 음식 순서: ['피자', '치킨', '떡볶이', '스테이크', '딸기', '파스타']\n"
     ]
    }
   ],
   "source": [
    "food = ['피자', '치킨', '떡볶이', '스테이크', '딸기', '파스타']\n",
    "print(food)\n",
    "print('좋아하는 음식 개수:', len(food))\n",
    "print('좋아하는 음식 순서:', food)"
   ]
  },
  {
   "cell_type": "code",
   "execution_count": 35,
   "id": "106c045b-16bb-422c-9dc4-882f3e6a5b40",
   "metadata": {},
   "outputs": [
    {
     "name": "stdout",
     "output_type": "stream",
     "text": [
      "24\n",
      "3월 지출 변경 전: [25, 36, 8, 53, 24, 56, 79, 94, 20, 40, 25]\n",
      "3월 지출 변경 후: [25, 36, 18, 53, 24, 56, 79, 94, 20, 40, 25]\n"
     ]
    }
   ],
   "source": [
    "spending = [25, 36, 8,53, 24, 56, 79, 94, 20, 40, 25]\n",
    "print(spending[4])\n",
    "print('3월 지출 변경 전:', spending)\n",
    "spending[2] += 10\n",
    "print('3월 지출 변경 후:', spending)"
   ]
  },
  {
   "cell_type": "code",
   "execution_count": 37,
   "id": "8aa5ce1a-398e-4fd9-91a8-66b7a11c9e95",
   "metadata": {},
   "outputs": [
    {
     "name": "stdout",
     "output_type": "stream",
     "text": [
      "25\n",
      "36\n",
      "8\n",
      "53\n",
      "24\n",
      "56\n",
      "79\n",
      "94\n",
      "20\n",
      "40\n",
      "25\n"
     ]
    }
   ],
   "source": [
    "spending = [25, 36, 8,53, 24, 56, 79, 94, 20, 40, 25]\n",
    "for s in spending:\n",
    "    print(s)"
   ]
  },
  {
   "cell_type": "code",
   "execution_count": 47,
   "id": "4cf1e70c-2ded-4133-9a7b-fdf7460be31a",
   "metadata": {},
   "outputs": [
    {
     "name": "stdout",
     "output_type": "stream",
     "text": [
      "1 월 지출은 25, 2 월 지출은 36, 3 월 지출은 8, 4 월 지출은 53, 5 월 지출은 24, 6 월 지출은 56, 7 월 지출은 79, 8 월 지출은 94, 9 월 지출은 20, 10 월 지출은 40, 11 월 지출은 25, "
     ]
    }
   ],
   "source": [
    "spending = [25, 36, 8,53, 24, 56, 79, 94, 20, 40, 25]\n",
    "for i in range(len(spending)):\n",
    "    print(i + 1, '월 지출은', spending[i], end=', ')"
   ]
  },
  {
   "cell_type": "code",
   "execution_count": 49,
   "id": "b0a14a19-93c9-4d65-9209-58500b7aeae9",
   "metadata": {},
   "outputs": [
    {
     "name": "stdout",
     "output_type": "stream",
     "text": [
      "25\n",
      "36\n",
      "8\n",
      "53\n",
      "24\n",
      "56\n",
      "79\n",
      "94\n",
      "20\n",
      "40\n",
      "25\n"
     ]
    }
   ],
   "source": [
    "spending = [25, 36, 8,53, 24, 56, 79, 94, 20, 40, 25]\n",
    "for s in spending:\n",
    "    print(s)"
   ]
  },
  {
   "cell_type": "code",
   "execution_count": 55,
   "id": "4259187d-db02-4392-824a-657b791077fe",
   "metadata": {},
   "outputs": [
    {
     "name": "stdout",
     "output_type": "stream",
     "text": [
      "0\n",
      "1\n",
      "2\n",
      "3\n",
      "4\n",
      "5\n",
      "6\n",
      "7\n",
      "8\n",
      "9\n",
      "10\n"
     ]
    }
   ],
   "source": [
    "#인덱스 번호 가져오기\n",
    "spending = [25, 36, 8,53, 24, 56, 79, 94, 20, 40, 25]\n",
    "for s in range(len(spending)):\n",
    "    print(s)"
   ]
  },
  {
   "cell_type": "code",
   "execution_count": 79,
   "id": "9be9f69c-9926-4a26-aa6f-5a5684a9a2b3",
   "metadata": {},
   "outputs": [
    {
     "name": "stdout",
     "output_type": "stream",
     "text": [
      "가장 안좋아하는 음식: 파스타 파스타\n",
      "가장 두번째로 좋아하는 음식: 치킨\n",
      "가장 세번째로 좋아하는 음식: 떡볶이\n",
      "딸기 스테이크\n",
      "['피자', '치킨', '떡볶이', '스테이크', '딸기', '파스타', '잡채']\n",
      "['피자', '치킨', '떡볶이', '케이크', '스테이크', '딸기', '파스타', '잡채']\n"
     ]
    }
   ],
   "source": [
    "food = ['피자', '치킨', '떡볶이', '스테이크', '딸기', '파스타']\n",
    "print('가장 안좋아하는 음식:', food[-1], food[len(food) - 1])\n",
    "print('가장 두번째로 좋아하는 음식:', food[1])\n",
    "print('가장 세번째로 좋아하는 음식:', food[2])\n",
    "print(food[-2], food[-3])\n",
    "\n",
    "#원소 마지막\n",
    "food.append('잡채')\n",
    "print(food)\n",
    "\n",
    "#원하는 인덱스 위치에 추가\n",
    "food.insert(3, '케이크')\n",
    "print(food)"
   ]
  },
  {
   "cell_type": "code",
   "execution_count": 87,
   "id": "b13f1b33-df01-449b-864b-07a3c685c5d2",
   "metadata": {},
   "outputs": [
    {
     "name": "stdout",
     "output_type": "stream",
     "text": [
      "[24, 28, 19, 40]\n"
     ]
    }
   ],
   "source": [
    "abc = []\n",
    "abc.append(24)\n",
    "abc.append(28)\n",
    "abc.append(19)\n",
    "abc.append(40)\n",
    "print(abc)"
   ]
  },
  {
   "cell_type": "code",
   "execution_count": 91,
   "id": "146dde71-b17f-4226-8f9e-abade3f597a4",
   "metadata": {},
   "outputs": [
    {
     "name": "stdin",
     "output_type": "stream",
     "text": [
      "해야 할 일을 입력해주세요. --> 집가기\n"
     ]
    },
    {
     "name": "stdout",
     "output_type": "stream",
     "text": [
      "['집가기']\n"
     ]
    }
   ],
   "source": [
    "to_do = []\n",
    "task = input('해야 할 일을 입력해주세요. -->')\n",
    "to_do.append(task)\n",
    "print(to_do)"
   ]
  },
  {
   "cell_type": "code",
   "execution_count": 105,
   "id": "756d9d1a-f6c6-4ab7-8550-b65b0700cbe8",
   "metadata": {},
   "outputs": [
    {
     "name": "stdin",
     "output_type": "stream",
     "text": [
      "해야 할 일을 입력해주세요. --> 넵\n",
      "할일 1 집가기\n",
      "할일 2 밥먹기\n",
      "할일 3 놀기\n"
     ]
    },
    {
     "ename": "KeyboardInterrupt",
     "evalue": "Interrupted by user",
     "output_type": "error",
     "traceback": [
      "\u001b[0;31m---------------------------------------------------------------------------\u001b[0m",
      "\u001b[0;31mKeyboardInterrupt\u001b[0m                         Traceback (most recent call last)",
      "Cell \u001b[0;32mIn[105], line 4\u001b[0m\n\u001b[1;32m      2\u001b[0m task \u001b[38;5;241m=\u001b[39m \u001b[38;5;28minput\u001b[39m(\u001b[38;5;124m'\u001b[39m\u001b[38;5;124m해야 할 일을 입력해주세요. -->\u001b[39m\u001b[38;5;124m'\u001b[39m)\n\u001b[1;32m      3\u001b[0m \u001b[38;5;28;01mfor\u001b[39;00m i \u001b[38;5;129;01min\u001b[39;00m \u001b[38;5;28mrange\u001b[39m(\u001b[38;5;241m5\u001b[39m):\n\u001b[0;32m----> 4\u001b[0m     to_do\u001b[38;5;241m.\u001b[39mappend(\u001b[38;5;28minput\u001b[39m(\u001b[38;5;124mf\u001b[39m\u001b[38;5;124m\"\u001b[39m\u001b[38;5;124m할일 \u001b[39m\u001b[38;5;132;01m{\u001b[39;00mi\u001b[38;5;250m \u001b[39m\u001b[38;5;241m+\u001b[39m\u001b[38;5;250m \u001b[39m\u001b[38;5;241m1\u001b[39m\u001b[38;5;132;01m}\u001b[39;00m\u001b[38;5;124m\"\u001b[39m))\n\u001b[1;32m      5\u001b[0m \u001b[38;5;28mprint\u001b[39m(to_do)\n",
      "File \u001b[0;32m/opt/anaconda3/lib/python3.12/site-packages/ipykernel/kernelbase.py:1262\u001b[0m, in \u001b[0;36mKernel.raw_input\u001b[0;34m(self, prompt)\u001b[0m\n\u001b[1;32m   1260\u001b[0m     msg \u001b[38;5;241m=\u001b[39m \u001b[38;5;124m\"\u001b[39m\u001b[38;5;124mraw_input was called, but this frontend does not support input requests.\u001b[39m\u001b[38;5;124m\"\u001b[39m\n\u001b[1;32m   1261\u001b[0m     \u001b[38;5;28;01mraise\u001b[39;00m StdinNotImplementedError(msg)\n\u001b[0;32m-> 1262\u001b[0m \u001b[38;5;28;01mreturn\u001b[39;00m \u001b[38;5;28mself\u001b[39m\u001b[38;5;241m.\u001b[39m_input_request(\n\u001b[1;32m   1263\u001b[0m     \u001b[38;5;28mstr\u001b[39m(prompt),\n\u001b[1;32m   1264\u001b[0m     \u001b[38;5;28mself\u001b[39m\u001b[38;5;241m.\u001b[39m_parent_ident[\u001b[38;5;124m\"\u001b[39m\u001b[38;5;124mshell\u001b[39m\u001b[38;5;124m\"\u001b[39m],\n\u001b[1;32m   1265\u001b[0m     \u001b[38;5;28mself\u001b[39m\u001b[38;5;241m.\u001b[39mget_parent(\u001b[38;5;124m\"\u001b[39m\u001b[38;5;124mshell\u001b[39m\u001b[38;5;124m\"\u001b[39m),\n\u001b[1;32m   1266\u001b[0m     password\u001b[38;5;241m=\u001b[39m\u001b[38;5;28;01mFalse\u001b[39;00m,\n\u001b[1;32m   1267\u001b[0m )\n",
      "File \u001b[0;32m/opt/anaconda3/lib/python3.12/site-packages/ipykernel/kernelbase.py:1305\u001b[0m, in \u001b[0;36mKernel._input_request\u001b[0;34m(self, prompt, ident, parent, password)\u001b[0m\n\u001b[1;32m   1302\u001b[0m \u001b[38;5;28;01mexcept\u001b[39;00m \u001b[38;5;167;01mKeyboardInterrupt\u001b[39;00m:\n\u001b[1;32m   1303\u001b[0m     \u001b[38;5;66;03m# re-raise KeyboardInterrupt, to truncate traceback\u001b[39;00m\n\u001b[1;32m   1304\u001b[0m     msg \u001b[38;5;241m=\u001b[39m \u001b[38;5;124m\"\u001b[39m\u001b[38;5;124mInterrupted by user\u001b[39m\u001b[38;5;124m\"\u001b[39m\n\u001b[0;32m-> 1305\u001b[0m     \u001b[38;5;28;01mraise\u001b[39;00m \u001b[38;5;167;01mKeyboardInterrupt\u001b[39;00m(msg) \u001b[38;5;28;01mfrom\u001b[39;00m \u001b[38;5;28;01mNone\u001b[39;00m\n\u001b[1;32m   1306\u001b[0m \u001b[38;5;28;01mexcept\u001b[39;00m \u001b[38;5;167;01mException\u001b[39;00m:\n\u001b[1;32m   1307\u001b[0m     \u001b[38;5;28mself\u001b[39m\u001b[38;5;241m.\u001b[39mlog\u001b[38;5;241m.\u001b[39mwarning(\u001b[38;5;124m\"\u001b[39m\u001b[38;5;124mInvalid Message:\u001b[39m\u001b[38;5;124m\"\u001b[39m, exc_info\u001b[38;5;241m=\u001b[39m\u001b[38;5;28;01mTrue\u001b[39;00m)\n",
      "\u001b[0;31mKeyboardInterrupt\u001b[0m: Interrupted by user"
     ]
    }
   ],
   "source": [
    "to_do = []\n",
    "task = input('해야 할 일을 입력해주세요. -->')\n",
    "for i in range(5):\n",
    "    to_do.append(input(f\"할일 {i + 1}\"))\n",
    "print(to_do)"
   ]
  },
  {
   "cell_type": "code",
   "execution_count": 107,
   "id": "80c2df27-815a-400a-97db-a9f2a12f251b",
   "metadata": {},
   "outputs": [
    {
     "name": "stdout",
     "output_type": "stream",
     "text": [
      "['피자', '치킨', '스테이크', '딸기', '파스타']\n"
     ]
    }
   ],
   "source": [
    "food = ['피자', '치킨', '떡볶이', '스테이크', '딸기', '파스타']\n",
    "food.remove('떡볶이')\n",
    "print(food)"
   ]
  },
  {
   "cell_type": "code",
   "execution_count": 109,
   "id": "61f4d9db-4a23-466d-bb0f-b0c08193d1ee",
   "metadata": {},
   "outputs": [
    {
     "name": "stdout",
     "output_type": "stream",
     "text": [
      "['피자', '치킨', '떡볶이', '스테이크', '딸기']\n"
     ]
    }
   ],
   "source": [
    "food = ['피자', '치킨', '떡볶이', '스테이크', '딸기', '파스타']\n",
    "del food[-1]\n",
    "print(food)"
   ]
  },
  {
   "cell_type": "code",
   "execution_count": 113,
   "id": "97fa9572-9e3d-44b9-ae50-490ed6e815e4",
   "metadata": {},
   "outputs": [
    {
     "name": "stdout",
     "output_type": "stream",
     "text": [
      "['피자', '떡볶이', '스테이크', '딸기', '파스타', '치킨']\n"
     ]
    }
   ],
   "source": [
    "food = ['피자', '치킨', '떡볶이', '스테이크', '딸기', '파스타', '치킨']\n",
    "food.remove('치킨')\n",
    "print(food)"
   ]
  },
  {
   "cell_type": "code",
   "execution_count": 119,
   "id": "5d280405-2f9b-4b98-8415-0213540f1d38",
   "metadata": {},
   "outputs": [
    {
     "name": "stdout",
     "output_type": "stream",
     "text": [
      "['피자', '치킨', '떡볶이', '스테이크', '딸기', '파스타']\n"
     ]
    }
   ],
   "source": [
    "food = ['피자', '치킨', '떡볶이', '스테이크', '딸기', '파스타', '치킨']\n",
    "del food[-1]\n",
    "print(food)"
   ]
  },
  {
   "cell_type": "code",
   "execution_count": 127,
   "id": "e3830e20-fed0-4745-98a1-b622c6b039fb",
   "metadata": {},
   "outputs": [
    {
     "name": "stdout",
     "output_type": "stream",
     "text": [
      "['피자', '치킨', '떡볶이']\n",
      "['떡볶이', '스테이크']\n",
      "['파스타', '치킨']\n",
      "<class 'list'>\n"
     ]
    }
   ],
   "source": [
    "food = ['피자', '치킨', '떡볶이', '스테이크', '딸기', '파스타', '치킨']\n",
    "print(food[0:3])\n",
    "print(food[2:4])\n",
    "print(food[-2:])\n",
    "print(type(food[0:3]))"
   ]
  },
  {
   "cell_type": "code",
   "execution_count": 137,
   "id": "53cd8ec6-3fc8-42a7-a671-3cada0110f91",
   "metadata": {},
   "outputs": [
    {
     "name": "stdout",
     "output_type": "stream",
     "text": [
      "1월부터 3월 지출: [25, 36, 8]\n",
      "3월부터 5월 지출: [8, 35, 24]\n",
      "5월부터 6월 지출: [24, 56]\n"
     ]
    }
   ],
   "source": [
    "spending_6mon = [25, 36, 8, 35, 24, 56]\n",
    "print('1월부터 3월 지출:', spending_6mon[:3])\n",
    "print('3월부터 5월 지출:', spending_6mon[2:5])\n",
    "print('5월부터 6월 지출:', spending_6mon[-2:])"
   ]
  },
  {
   "cell_type": "code",
   "execution_count": 151,
   "id": "2d5c55a8-a3e9-4cec-83ad-6d3936e49d57",
   "metadata": {},
   "outputs": [
    {
     "name": "stdout",
     "output_type": "stream",
     "text": [
      "나는야\n",
      "나는야\n",
      "우주최강\n",
      "우주\n",
      "우주\n"
     ]
    }
   ],
   "source": [
    "a = '나는야 우주최강'\n",
    "print(a[:3])\n",
    "print(a[0:3])\n",
    "print(a[-4:])\n",
    "print(a[-4:-2])\n",
    "print(a[4:-2])"
   ]
  },
  {
   "cell_type": "code",
   "execution_count": 161,
   "id": "b6e609ca-7ba9-4a8b-94f9-aafc92a57aea",
   "metadata": {},
   "outputs": [
    {
     "name": "stdout",
     "output_type": "stream",
     "text": [
      "연도: 2021\n",
      "월: 04\n",
      "일: 15\n"
     ]
    }
   ],
   "source": [
    "date = '2021-04-15'\n",
    "print('연도:', date[:4])\n",
    "print('월:', date[5:7])\n",
    "print('일:', date[-2:])"
   ]
  },
  {
   "cell_type": "code",
   "execution_count": 193,
   "id": "e6a0a2fd-5eff-4464-9ef5-bf8ad51bb15a",
   "metadata": {},
   "outputs": [
    {
     "name": "stdout",
     "output_type": "stream",
     "text": [
      "['나는야', '우주최강']\n",
      "나는야\n",
      "['나', '는', '야', ' ', '우', '주', '최', '강']\n"
     ]
    }
   ],
   "source": [
    "#split -> list 반환\n",
    "a = '나는야 우주최강'\n",
    "print(a.split())\n",
    "print(a.split()[0])"
   ]
  },
  {
   "cell_type": "code",
   "execution_count": 187,
   "id": "b3e71858-6076-4ab6-97ec-158164e05b4b",
   "metadata": {},
   "outputs": [
    {
     "name": "stdout",
     "output_type": "stream",
     "text": [
      "2021\n",
      "04\n",
      "15\n"
     ]
    }
   ],
   "source": [
    "date = '2021-04-15'\n",
    "\n",
    "print(date.split('-')[0])\n",
    "print(date.split('-')[1])\n",
    "print(date.split('-')[2])"
   ]
  },
  {
   "cell_type": "code",
   "execution_count": 209,
   "id": "49d9f2c7-af7d-46e9-afad-ff87c7baa760",
   "metadata": {},
   "outputs": [
    {
     "name": "stdout",
     "output_type": "stream",
     "text": [
      "정렬 1: ['딸기', '떡볶이', '스테이크', '치킨', '치킨', '파스타', '피자']\n",
      "정렬 2: ['피자', '파스타', '치킨', '치킨', '스테이크', '떡볶이', '딸기']\n"
     ]
    }
   ],
   "source": [
    "#sort는 어떠한 값도 출력할 수 없기 때문에 변수에 저장할 수 없음\n",
    "food = ['피자', '치킨', '떡볶이', '스테이크', '딸기', '파스타', '치킨']\n",
    "food.sort()\n",
    "print('정렬 1:', food)\n",
    "food.sort(reverse=True)\n",
    "print('정렬 2:', food)"
   ]
  },
  {
   "cell_type": "code",
   "execution_count": 215,
   "id": "ab454afe-3edf-4ef1-85dd-d41e3ebef4ae",
   "metadata": {},
   "outputs": [
    {
     "name": "stdout",
     "output_type": "stream",
     "text": [
      "[56, 36]\n",
      "[24, 8]\n",
      "56 8\n"
     ]
    }
   ],
   "source": [
    "spending_6mon = [25, 36, 8, 35, 24, 56]\n",
    "spending_6mon.sort(reverse=True)\n",
    "print(spending_6mon[0:2])\n",
    "print(spending_6mon[-2:])\n",
    "\n",
    "print(max(spending_6mon), min(spending_6mon))"
   ]
  },
  {
   "cell_type": "code",
   "execution_count": 217,
   "id": "e6d1004b-52ff-4a12-80dc-3d7ba70041da",
   "metadata": {},
   "outputs": [
    {
     "name": "stdin",
     "output_type": "stream",
     "text": [
      "찾는 음식은? 치킨\n"
     ]
    },
    {
     "name": "stdout",
     "output_type": "stream",
     "text": [
      "2 위입니다.\n"
     ]
    }
   ],
   "source": [
    "food = ['피자', '치킨', '스테이크', '된장찌개']\n",
    "search = input('찾는 음식은?')\n",
    "if search in food:\n",
    "    print(food.index(search) + 1, '위입니다.')\n",
    "else:\n",
    "    print(search, '은/는 순위에 없습니다.')"
   ]
  },
  {
   "cell_type": "code",
   "execution_count": 1,
   "id": "f98972b7-0ae1-4406-bd1f-222e75abc740",
   "metadata": {},
   "outputs": [
    {
     "name": "stdout",
     "output_type": "stream",
     "text": [
      "강아지 영상을 좋아하시면 고양이 영상을 추천드립니다.\n",
      "댄스 영상을 좋아하시면 음악방송 영상도 추천합니다.\n"
     ]
    }
   ],
   "source": [
    "history = ['먹방', '강아지', '요리', '댄스']\n",
    "\n",
    "if '강아지' in history:\n",
    "    print('강아지 영상을 좋아하시면 고양이 영상을 추천드립니다.')\n",
    "if '댄스' in history:\n",
    "    print('댄스 영상을 좋아하시면 음악방송 영상도 추천합니다.')"
   ]
  },
  {
   "cell_type": "code",
   "execution_count": 7,
   "id": "564e2f15-cd7b-4276-9687-076deee15b63",
   "metadata": {},
   "outputs": [
    {
     "name": "stdin",
     "output_type": "stream",
     "text": [
      "지금까지 시청한 영상은? 뉴스\n",
      "지금까지 시청한 영상은? 가성비 맛집\n",
      "지금까지 시청한 영상은? 다이어트\n",
      "지금까지 시청한 영상은? 마스크 사용법\n",
      "지금까지 시청한 영상은? 스마트폰 후기\n"
     ]
    },
    {
     "name": "stdout",
     "output_type": "stream",
     "text": [
      "지금까지 시청한 영상은 ['뉴스', '가성비 맛집', '다이어트', '마스크 사용법', '스마트폰 후기']\n",
      "다이어트 영상을 좋아하시면 홈트레이닝 영상을 추천드립니다.\n",
      "뉴스 영상을 좋아하시면 속보 영상도 추천합니다.\n"
     ]
    }
   ],
   "source": [
    "history = []\n",
    "for i in range(5):\n",
    "    history.append(input('지금까지 시청한 영상은?'))\n",
    "print('지금까지 시청한 영상은', history)\n",
    "\n",
    "if '다이어트' in history:\n",
    "    print('다이어트 영상을 좋아하시면 홈트레이닝 영상을 추천드립니다.')\n",
    "if '뉴스' in history:\n",
    "    print('뉴스 영상을 좋아하시면 속보 영상도 추천합니다.')"
   ]
  },
  {
   "cell_type": "code",
   "execution_count": 19,
   "id": "5f9507de-e159-4d59-81b6-f7a95bd0c1ab",
   "metadata": {},
   "outputs": [
    {
     "name": "stdout",
     "output_type": "stream",
     "text": [
      "[89, 56, 26, 80, 99, 96, 79, 93, 43, 12, 15, 31, 92, 24, 23, 99, 1, 51, 45, 53, 61, 47, 45, 30, 37]\n",
      "13\n"
     ]
    }
   ],
   "source": [
    "import random\n",
    "\n",
    "score = []\n",
    "for i in range(25):\n",
    "    score.append(random.randint(0, 100))\n",
    "print(score)"
   ]
  },
  {
   "cell_type": "code",
   "execution_count": 13,
   "id": "3d6a2053-24cf-48a4-ad91-04daef4ce394",
   "metadata": {},
   "outputs": [
    {
     "name": "stdout",
     "output_type": "stream",
     "text": [
      "리스트를 사용해 70점 이상인 점수 출력하기\n",
      "2 번 91\n",
      "3 번 83\n",
      "5 번 86\n",
      "7 번 76\n",
      "10 번 88\n",
      "13 번 72\n",
      "21 번 70\n"
     ]
    }
   ],
   "source": [
    "print('리스트를 사용해 70점 이상인 점수 출력하기')\n",
    "for s in score:\n",
    "    if s >= 70:\n",
    "        print(score.index(s) + 1, '번', s)"
   ]
  },
  {
   "cell_type": "code",
   "execution_count": 37,
   "id": "9e58a544-4f07-42fa-84f2-72d69e4884c1",
   "metadata": {},
   "outputs": [
    {
     "name": "stdout",
     "output_type": "stream",
     "text": [
      "인덱스를 사용해 70점 이상인 점수 출력하기\n",
      "1 번 89\n",
      "4 번 80\n",
      "5 번 99\n",
      "6 번 96\n",
      "7 번 79\n",
      "8 번 93\n",
      "13 번 92\n",
      "16 번 99\n"
     ]
    }
   ],
   "source": [
    "print('인덱스를 사용해 70점 이상인 점수 출력하기')\n",
    "for i in range(len(score)):\n",
    "    if score[i] >= 70:\n",
    "        print(i+1, '번', score[i])"
   ]
  },
  {
   "cell_type": "code",
   "execution_count": 53,
   "id": "fad54de0-1faa-4734-8837-9aeaf3f276da",
   "metadata": {},
   "outputs": [
    {
     "name": "stdin",
     "output_type": "stream",
     "text": [
      "역을입력해주세요 4\n"
     ]
    },
    {
     "name": "stdout",
     "output_type": "stream",
     "text": [
      "아쉽지만, 없습니다\n"
     ]
    }
   ],
   "source": [
    "station = ['1', '2', '3']\n",
    "\n",
    "for i in range(10):\n",
    "    answer = input('역을입력해주세요')\n",
    "    \n",
    "    if answer not in station:\n",
    "        print('아쉽지만, 없습니다')\n",
    "        break"
   ]
  },
  {
   "cell_type": "code",
   "execution_count": 55,
   "id": "278942c1-cb37-408f-95df-2b0a9d8fb9f4",
   "metadata": {},
   "outputs": [
    {
     "name": "stdout",
     "output_type": "stream",
     "text": [
      "2\n",
      "6\n"
     ]
    }
   ],
   "source": [
    "abc = [[1, 2, 3], [4, 5, 6], [7, 8, 9]]\n",
    "print(abc[0][1])\n",
    "print(abc[1][2])"
   ]
  },
  {
   "cell_type": "code",
   "execution_count": 57,
   "id": "d58bae8e-ec5d-448d-9464-e2a4245e5cd4",
   "metadata": {},
   "outputs": [
    {
     "name": "stdout",
     "output_type": "stream",
     "text": [
      "[1, 2, 3]\n",
      "[4, 5, 6]\n",
      "[7, 8, 9]\n"
     ]
    }
   ],
   "source": [
    "abc = [[1, 2, 3], [4, 5, 6], [7, 8, 9]]\n",
    "for row in abc:\n",
    "    print(row)"
   ]
  },
  {
   "cell_type": "code",
   "execution_count": 61,
   "id": "70e95bcc-2ff4-427a-9ea2-cd0257010e4d",
   "metadata": {},
   "outputs": [
    {
     "name": "stdout",
     "output_type": "stream",
     "text": [
      "3\n",
      "6\n",
      "9\n"
     ]
    }
   ],
   "source": [
    "abc = [[1, 2, 3], [4, 5, 6], [7, 8, 9]]\n",
    "for row in abc:\n",
    "    print(row[-1])"
   ]
  },
  {
   "cell_type": "code",
   "execution_count": 65,
   "id": "9fa3ef61-e4c5-4e62-8a86-d18d90c7b50b",
   "metadata": {},
   "outputs": [
    {
     "name": "stdout",
     "output_type": "stream",
     "text": [
      "['2020/03/04', '주식회사 카카오페이', 1000]\n",
      "['2020/03/01', '11번가', 27500]\n",
      "주식회사 카카오페이\n",
      "11번가\n"
     ]
    }
   ],
   "source": [
    "card=[['2020/03/04', '주식회사 카카오페이', 1000],\n",
    "      ['2020/03/03', '네이버페이', 51100],\n",
    "      ['2020/03/02', '스타벅스코리아', 10000],\n",
    "      ['2020/03/01', '11번가', 27500],\n",
    "      ['2020/02/26', '주식회사 카카오페이', 32500],\n",
    "      ['2020/02/26', '주식회사 카카오페이', 32500],\n",
    "      ['2020/02/22', 'G마켓', 81500],\n",
    "      ['2020/02/22', '네이버페이',131000]]\n",
    "\n",
    "print(card[0])\n",
    "print(card[3])\n",
    "\n",
    "print(card[0][1])\n",
    "print(card[3][1])"
   ]
  },
  {
   "cell_type": "code",
   "execution_count": 89,
   "id": "49ae2c0c-6729-4e18-9ed5-40e1aa48c8f5",
   "metadata": {},
   "outputs": [
    {
     "name": "stdout",
     "output_type": "stream",
     "text": [
      "미국 금메달 개수: 46\n",
      "독일 금메달 개수: 46\n",
      "미국 금은동 개수: [46, 37, 38]\n",
      "독일 금메달 개수: [46, 37, 38]\n",
      "[[1, '미국', 46, 37, 38, 121], [2, '영국', 27, 23, 17, 67], [3, '중국', 26, 18, 26, 70], [4, '러시아', 19, 18, 19, 56]]\n",
      "[2, '영국', 27, 23, 17, 67]\n",
      "[1, '미국']\n",
      "[2, '영국']\n",
      "[3, '중국']\n",
      "[4, '러시아']\n",
      "[5, '독일']\n",
      "[6, '일본']\n",
      "[7, '프랑스']\n",
      "[8, '대한민국']\n"
     ]
    }
   ],
   "source": [
    "olympic =[\n",
    "       [1,'미국',46,37,38,121],\n",
    "       [2,'영국',27,23,17,67],\n",
    "       [3,'중국',26,18,26,70],\n",
    "       [4,'러시아',19,18,19,56],\n",
    "       [5,'독일',17,10,15,42],\n",
    "       [6,'일본',12,8,21,41],\n",
    "       [7,'프랑스',10,18,14,42],\n",
    "       [8,'대한민국',9,3,9,21]\n",
    "       ]\n",
    "\n",
    "print(olympic[0][1], '금메달 개수:', olympic[0][2])\n",
    "print(olympic[4][1], '금메달 개수:', olympic[0][2])\n",
    "\n",
    "print(olympic[0][1], '금은동 개수:', olympic[0][2:5])\n",
    "print(olympic[4][1], '금메달 개수:', olympic[0][2:5])\n",
    "\n",
    "print(olympic[:4])\n",
    "print(olympic[:4][1])\n",
    "\n",
    "for row in olympic:\n",
    "    print(row[:2])"
   ]
  },
  {
   "cell_type": "code",
   "execution_count": 99,
   "id": "c3deb8eb-ab3b-4f38-88ce-6382a62cfa21",
   "metadata": {},
   "outputs": [
    {
     "name": "stdout",
     "output_type": "stream",
     "text": [
      "모든 나라의 금메달 합: 166\n"
     ]
    }
   ],
   "source": [
    "olympic =[\n",
    "       [1,'미국',46,37,38,121],\n",
    "       [2,'영국',27,23,17,67],\n",
    "       [3,'중국',26,18,26,70],\n",
    "       [4,'러시아',19,18,19,56],\n",
    "       [5,'독일',17,10,15,42],\n",
    "       [6,'일본',12,8,21,41],\n",
    "       [7,'프랑스',10,18,14,42],\n",
    "       [8,'대한민국',9,3,9,21]\n",
    "       ]\n",
    "\n",
    "goldTotal = 0\n",
    "for row in olympic:\n",
    "    goldTotal += row[2]\n",
    "print(\"모든 나라의 금메달 합:\",goldTotal)\n",
    "        "
   ]
  },
  {
   "cell_type": "code",
   "execution_count": 119,
   "id": "5205574f-35ee-4910-87f7-a02325df3589",
   "metadata": {},
   "outputs": [
    {
     "name": "stdout",
     "output_type": "stream",
     "text": [
      "금메달 비율이 40% 넘는 나라: 영국\n",
      "금메달 비율이 40% 넘는 나라: 독일\n",
      "금메달 비율이 40% 넘는 나라: 대한민국\n"
     ]
    }
   ],
   "source": [
    "olympic =[\n",
    "       [1,'미국',46,37,38,121],\n",
    "       [2,'영국',27,23,17,67],\n",
    "       [3,'중국',26,18,26,70],\n",
    "       [4,'러시아',19,18,19,56],\n",
    "       [5,'독일',17,10,15,42],\n",
    "       [6,'일본',12,8,21,41],\n",
    "       [7,'프랑스',10,18,14,42],\n",
    "       [8,'대한민국',9,3,9,21]\n",
    "       ]\n",
    "\n",
    "for row in olympic:\n",
    "    if row[-1]*0.4 < row[2]:\n",
    "      print(\"금메달 비율이 40% 넘는 나라:\",row[1])  "
   ]
  },
  {
   "cell_type": "code",
   "execution_count": 7,
   "id": "721e3ae3-96e0-4482-be42-88c6be2409c4",
   "metadata": {},
   "outputs": [
    {
     "name": "stdout",
     "output_type": "stream",
     "text": [
      "1 라이언\n",
      "2 니니즈\n",
      "3 어피치\n",
      "4 프로도\n",
      "5 네오\n"
     ]
    }
   ],
   "source": [
    "ranking = [\n",
    "        [1, '라이언', 956412, 564553],\n",
    "        [2, '니니즈', 861832, 927175],\n",
    "        [3, '어피치', 796354, 593175],\n",
    "        [4, '프로도', 534840, 864326],\n",
    "        [5, '네오', 387896, 648367]\n",
    "        ]\n",
    "\n",
    "for row in ranking:\n",
    "    #문제1\n",
    "    #print(row[0], row[1])\n",
    "\n",
    "    #문제2\n",
    "    #if row[2] > 500000:\n",
    "        #print(row[1], row[2])\n",
    "\n",
    "    #문제3\n",
    "    #if row[3] > row[2]:\n",
    "        #print(row[1], row[3]-row[2])\n",
    "\n",
    "    #문제4\n",
    "    #if row[2] > 800000 or row[3] > 800000:\n",
    "        #print(row[1])"
   ]
  },
  {
   "cell_type": "code",
   "execution_count": 3,
   "id": "0537eeb8-aa51-4f33-bb5c-cf03c458d4d3",
   "metadata": {},
   "outputs": [
    {
     "name": "stdout",
     "output_type": "stream",
     "text": [
      "피터팬\n",
      "개구리\n"
     ]
    }
   ],
   "source": [
    "book_name = ['피터팬', '개구리']\n",
    "\n",
    "for i in range(len(book_name)):  # 인덱스 범위를 생성\n",
    "    print(book_name[i])"
   ]
  },
  {
   "cell_type": "code",
   "execution_count": 5,
   "id": "564b3102-3b99-4c8c-a546-661b9cfc1b77",
   "metadata": {},
   "outputs": [
    {
     "name": "stdout",
     "output_type": "stream",
     "text": [
      "피터팬\n",
      "개구리\n"
     ]
    }
   ],
   "source": [
    "book_name = ['피터팬', '개구리']\n",
    "\n",
    "for book in book_name:\n",
    "    print(book)"
   ]
  },
  {
   "cell_type": "code",
   "execution_count": null,
   "id": "6e96e023-2550-494b-913d-8ae10e3a9bb2",
   "metadata": {},
   "outputs": [],
   "source": []
  }
 ],
 "metadata": {
  "kernelspec": {
   "display_name": "Python [conda env:base] *",
   "language": "python",
   "name": "conda-base-py"
  },
  "language_info": {
   "codemirror_mode": {
    "name": "ipython",
    "version": 3
   },
   "file_extension": ".py",
   "mimetype": "text/x-python",
   "name": "python",
   "nbconvert_exporter": "python",
   "pygments_lexer": "ipython3",
   "version": "3.12.7"
  }
 },
 "nbformat": 4,
 "nbformat_minor": 5
}
