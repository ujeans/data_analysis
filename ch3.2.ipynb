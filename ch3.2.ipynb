{
 "cells": [
  {
   "cell_type": "code",
   "execution_count": 3,
   "id": "8623b1df-3003-4afd-a8eb-cd0c093e2853",
   "metadata": {},
   "outputs": [
    {
     "name": "stdout",
     "output_type": "stream",
     "text": [
      "<class 'int'>\n",
      "<class 'float'>\n",
      "<class 'str'>\n"
     ]
    }
   ],
   "source": [
    "year = 2016\n",
    "height = 175.5\n",
    "name = '제임스'\n",
    "print(type(year))\n",
    "print(type(height))\n",
    "print(type(name))"
   ]
  },
  {
   "cell_type": "code",
   "execution_count": 5,
   "id": "6f846f54-16d5-4fd0-b958-01b5f0611c81",
   "metadata": {},
   "outputs": [
    {
     "name": "stdin",
     "output_type": "stream",
     "text": [
      " 555\n"
     ]
    },
    {
     "name": "stdout",
     "output_type": "stream",
     "text": [
      "<class 'str'>\n"
     ]
    }
   ],
   "source": [
    "r = input()\n",
    "print(type(r))"
   ]
  },
  {
   "cell_type": "code",
   "execution_count": 7,
   "id": "792979ac-c322-41b2-8259-a41c51049931",
   "metadata": {},
   "outputs": [
    {
     "name": "stdout",
     "output_type": "stream",
     "text": [
      "<class 'int'> 79\n",
      "<class 'float'> 79.0\n"
     ]
    }
   ],
   "source": [
    "score = 79\n",
    "print(type(score), score)\n",
    "score = float(score)\n",
    "print(type(score), score)"
   ]
  },
  {
   "cell_type": "code",
   "execution_count": 13,
   "id": "bada057a-87cd-4313-a1a5-f02660eabd0d",
   "metadata": {},
   "outputs": [
    {
     "name": "stdout",
     "output_type": "stream",
     "text": [
      "<class 'float'> 89.7\n",
      "<class 'int'> 89\n"
     ]
    }
   ],
   "source": [
    "avg = 89.7\n",
    "print(type(avg), avg)\n",
    "avg = int(avg)\n",
    "print(type(avg), avg)"
   ]
  },
  {
   "cell_type": "code",
   "execution_count": 15,
   "id": "4251258a-28b1-4b95-bdb7-9a2863b59715",
   "metadata": {},
   "outputs": [
    {
     "name": "stdout",
     "output_type": "stream",
     "text": [
      "<class 'str'> <class 'str'>\n",
      "3232.9\n"
     ]
    }
   ],
   "source": [
    "x = 32\n",
    "y = 32.9\n",
    "x = str(x)\n",
    "y = str(y)\n",
    "print(type(x), type(y))\n",
    "print(x + y)"
   ]
  },
  {
   "cell_type": "code",
   "execution_count": 21,
   "id": "9e96906a-d76a-4cf4-a4d9-b9fe8307da14",
   "metadata": {},
   "outputs": [
    {
     "name": "stdout",
     "output_type": "stream",
     "text": [
      "<class 'str'> 30\n",
      "<class 'str'> 303030\n",
      "<class 'int'> 90\n"
     ]
    }
   ],
   "source": [
    "a = \"30\"\n",
    "print(type(a), a)\n",
    "print(type(a), a*3)\n",
    "a = int(a)\n",
    "print(type(a), a*3)"
   ]
  },
  {
   "cell_type": "code",
   "execution_count": 25,
   "id": "d3b38cd1-dadf-42fc-a4c2-a5723c91feae",
   "metadata": {},
   "outputs": [
    {
     "name": "stdout",
     "output_type": "stream",
     "text": [
      "<class 'str'> 제임스\n"
     ]
    },
    {
     "ename": "ValueError",
     "evalue": "could not convert string to float: '제임스'",
     "output_type": "error",
     "traceback": [
      "\u001b[0;31m---------------------------------------------------------------------------\u001b[0m",
      "\u001b[0;31mValueError\u001b[0m                                Traceback (most recent call last)",
      "Cell \u001b[0;32mIn[25], line 3\u001b[0m\n\u001b[1;32m      1\u001b[0m a \u001b[38;5;241m=\u001b[39m \u001b[38;5;124m'\u001b[39m\u001b[38;5;124m제임스\u001b[39m\u001b[38;5;124m'\u001b[39m\n\u001b[1;32m      2\u001b[0m \u001b[38;5;28mprint\u001b[39m(\u001b[38;5;28mtype\u001b[39m(a), a)\n\u001b[0;32m----> 3\u001b[0m a \u001b[38;5;241m=\u001b[39m \u001b[38;5;28mfloat\u001b[39m(a)\n\u001b[1;32m      4\u001b[0m \u001b[38;5;28mprint\u001b[39m(\u001b[38;5;28mtype\u001b[39m(a), a)\n",
      "\u001b[0;31mValueError\u001b[0m: could not convert string to float: '제임스'"
     ]
    }
   ],
   "source": [
    "a = '제임스'\n",
    "print(type(a), a)\n",
    "a = float(a)\n",
    "print(type(a), a)"
   ]
  },
  {
   "cell_type": "code",
   "execution_count": 27,
   "id": "8c039066-74f4-4417-ad0a-43b02312b01d",
   "metadata": {},
   "outputs": [
    {
     "name": "stdout",
     "output_type": "stream",
     "text": [
      "123 2\n",
      "125\n"
     ]
    }
   ],
   "source": [
    "print('123', str(2))\n",
    "print(int('123') + 2)"
   ]
  },
  {
   "cell_type": "code",
   "execution_count": 30,
   "id": "e0b46b7a-b51d-4b3e-a302-44cd827162c0",
   "metadata": {},
   "outputs": [
    {
     "name": "stdin",
     "output_type": "stream",
     "text": [
      "반지름은?  4\n"
     ]
    },
    {
     "name": "stdout",
     "output_type": "stream",
     "text": [
      "원의 넓이 = 50.265472 원의 둘레 = 25.132736 구의 겉넓이 = 201.061888\n"
     ]
    }
   ],
   "source": [
    "p = 3.141592\n",
    "r = int(input('반지름은? '))\n",
    "\n",
    "#원의 넓이\n",
    "circleArea = p * r ** 2\n",
    "c_len = 2 * p * r\n",
    "sphereSurfaceArea = 4 * p * r ** 2\n",
    "\n",
    "print('원의 넓이 =', circleArea, '원의 둘레 =', c_len, '구의 겉넓이 =', sphereSurfaceArea)"
   ]
  },
  {
   "cell_type": "code",
   "execution_count": 53,
   "id": "91787b35-4cbb-41a7-b8a4-c3d2e5ff0762",
   "metadata": {},
   "outputs": [
    {
     "name": "stdin",
     "output_type": "stream",
     "text": [
      "과자를 몇 개 구매하겠습니까? 3\n",
      "과자를 몇 개 구매하겠습니까? 5\n",
      "과자를 몇 개 구매하겠습니까? 2\n"
     ]
    },
    {
     "name": "stdout",
     "output_type": "stream",
     "text": [
      "총금액: 12400\n"
     ]
    }
   ],
   "source": [
    "snack_price = 1200\n",
    "ramen_price = 800\n",
    "ham_price = 2400\n",
    "\n",
    "snack_count = int(input(\"과자를 몇 개 구매하겠습니까?\"))\n",
    "ramen_count = int(input(\"과자를 몇 개 구매하겠습니까?\"))\n",
    "ham_count = int(input(\"과자를 몇 개 구매하겠습니까?\"))\n",
    "\n",
    "snack_sum = snack * snack_count\n",
    "ramen_sum = ramen * ramen_count\n",
    "ham_sum = ham * ham_count\n",
    "\n",
    "total_price = snack_sum + ramen_sum + ham_sum\n",
    "print(\"총금액:\", total_price)"
   ]
  },
  {
   "cell_type": "code",
   "execution_count": 55,
   "id": "511a298e-a928-4cca-bf37-541806286d94",
   "metadata": {},
   "outputs": [
    {
     "name": "stdin",
     "output_type": "stream",
     "text": [
      "과자를 몇 개 구매하겠습니까? 3\n",
      "과자를 몇 개 구매하겠습니까? 5\n",
      "과자를 몇 개 구매하겠습니까? 2\n"
     ]
    },
    {
     "name": "stdout",
     "output_type": "stream",
     "text": [
      "총금액: 12400 ,할인 후 금액: 9300.0\n"
     ]
    }
   ],
   "source": [
    "snack_price = 1200\n",
    "ramen_price = 800\n",
    "ham_price = 2400\n",
    "\n",
    "snack_count = int(input(\"과자를 몇 개 구매하겠습니까?\"))\n",
    "ramen_count = int(input(\"과자를 몇 개 구매하겠습니까?\"))\n",
    "ham_count = int(input(\"과자를 몇 개 구매하겠습니까?\"))\n",
    "\n",
    "snack_sum = snack * snack_count\n",
    "ramen_sum = ramen * ramen_count\n",
    "ham_sum = ham * ham_count\n",
    "\n",
    "total_price = snack_sum + ramen_sum + ham_sum\n",
    "sale_price = total_price * 0.75\n",
    "\n",
    "print(\"할인 전 금액\":\", total_price, \",\" \"할인 후 금액:\", sale_price)"
   ]
  },
  {
   "cell_type": "code",
   "execution_count": 57,
   "id": "f7111156-8999-455d-bcda-d66aae125292",
   "metadata": {},
   "outputs": [
    {
     "name": "stdout",
     "output_type": "stream",
     "text": [
      "<class 'float'>\n"
     ]
    }
   ],
   "source": [
    "print(type(6/3))"
   ]
  },
  {
   "cell_type": "code",
   "execution_count": 59,
   "id": "6dc8327a-b868-4374-9cf6-9f7a7c4c1991",
   "metadata": {},
   "outputs": [
    {
     "name": "stdin",
     "output_type": "stream",
     "text": [
      "숫자1 입력:  12\n",
      "숫자2 입력:  4\n"
     ]
    },
    {
     "name": "stdout",
     "output_type": "stream",
     "text": [
      "두 수를 더한 값: 16\n",
      "두 수를 뺀 값: 8\n",
      "두 수를 곱한 값: 48\n",
      "두 수를 나눈 값: 3.0\n"
     ]
    }
   ],
   "source": [
    "x = int(input(\"숫자1 입력: \"))\n",
    "y = int(input(\"숫자2 입력: \"))\n",
    "\n",
    "print(\"두 수를 더한 값:\", x + y)\n",
    "print(\"두 수를 뺀 값:\", x - y)\n",
    "print(\"두 수를 곱한 값:\", x * y)\n",
    "print(\"두 수를 나눈 값:\", x / y)"
   ]
  },
  {
   "cell_type": "code",
   "execution_count": null,
   "id": "ae09221f-eb24-4891-96ea-d09e00b4a518",
   "metadata": {},
   "outputs": [],
   "source": []
  }
 ],
 "metadata": {
  "kernelspec": {
   "display_name": "Python [conda env:base] *",
   "language": "python",
   "name": "conda-base-py"
  },
  "language_info": {
   "codemirror_mode": {
    "name": "ipython",
    "version": 3
   },
   "file_extension": ".py",
   "mimetype": "text/x-python",
   "name": "python",
   "nbconvert_exporter": "python",
   "pygments_lexer": "ipython3",
   "version": "3.12.7"
  }
 },
 "nbformat": 4,
 "nbformat_minor": 5
}
